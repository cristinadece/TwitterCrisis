{
 "cells": [
  {
   "cell_type": "code",
   "execution_count": 1,
   "metadata": {
    "collapsed": true
   },
   "outputs": [],
   "source": [
    "%matplotlib inline"
   ]
  },
  {
   "cell_type": "code",
   "execution_count": 2,
   "metadata": {
    "collapsed": false
   },
   "outputs": [
    {
     "name": "stderr",
     "output_type": "stream",
     "text": [
      "/Library/Python/2.7/site-packages/mpltools/style/__init__.py:42: FutureWarning: \n",
      "\n",
      "    The style-sheet functionality in mpltools has been integrated into\n",
      "    Matplotlib >= 1.4. This module will be removed in a future release.\n",
      "\n",
      "    Note that style-sheets used by `matplotlib.style` use the standard\n",
      "    Matplotlib rc-file syntax instead of the INI format used by `mpltools`.\n",
      "    This mostly means un-quoting strings and changing '=' to ':'.\n",
      "\n",
      "\n",
      "  \"\"\", FutureWarning)\n"
     ]
    }
   ],
   "source": [
    "import stats_enriched_tweets\n",
    "from collections import defaultdict\n",
    "import matplotlib\n",
    "import matplotlib.pyplot as plt\n",
    "from matplotlib.ticker import ScalarFormatter, FormatStrFormatter\n",
    "from mpltools import style\n",
    "import numpy as np\n",
    "from collections import Counter, OrderedDict\n",
    "import pandas as pd\n",
    "import plotly.plotly as py\n",
    "\n",
    "filename = \"/Users/muntean/refugees-output/Final2/refugees_all.json\""
   ]
  },
  {
   "cell_type": "markdown",
   "metadata": {},
   "source": [
    "# build indexes"
   ]
  },
  {
   "cell_type": "code",
   "execution_count": null,
   "metadata": {
    "collapsed": false
   },
   "outputs": [],
   "source": [
    "# 1. tweet index\n",
    "tweetIndex = stats_enriched_tweets.createTweetIndex(filename)\n",
    "print len(tweetIndex)"
   ]
  },
  {
   "cell_type": "code",
   "execution_count": null,
   "metadata": {
    "collapsed": false
   },
   "outputs": [],
   "source": [
    "# 2. masks over tweet index\n",
    "dailyTweetsDict = stats_enriched_tweets.createDailyTweetsMask(tweetIndex)\n",
    "print \"Daily tweets - volumes:\", len(dailyTweetsDict)\n",
    "userCountryTweetsDict = stats_enriched_tweets.createUserCountryTweetsMask(tweetIndex)\n",
    "print \"User country tweets - volumes - EU:\", len(userCountryTweetsDict)"
   ]
  },
  {
   "cell_type": "markdown",
   "metadata": {},
   "source": [
    "# plot types"
   ]
  },
  {
   "cell_type": "code",
   "execution_count": null,
   "metadata": {
    "collapsed": true
   },
   "outputs": [],
   "source": [
    "def plotBarWithLables(distrib, labels, title, rot=0):\n",
    "    style.use('ggplot')\n",
    "    plt.figure()\n",
    "    ind = np.arange(len(distrib))\n",
    "    plt.bar(ind, distrib, width = 0.75, align='center', color='k')\n",
    "    plt.xticks(ind, labels, rotation=rot, fontsize = 10)\n",
    "    plt.title(title, fontsize = 10)\n",
    "    plt.ylabel('Volume', fontsize = 10)\n",
    "    plt.tight_layout()\n",
    "    plt.savefig(\"/Users/muntean/refugees-output/plots/\" + title.replace(\" \",\"_\") + \".pdf\")\n",
    "    plt.show()"
   ]
  },
  {
   "cell_type": "code",
   "execution_count": null,
   "metadata": {
    "collapsed": true
   },
   "outputs": [],
   "source": [
    "def plotBarWithLablesNew(distrib, labels, title, rot=0):\n",
    "    style.use('ggplot')\n",
    "    fig = plt.figure()\n",
    "    ax = fig.add_subplot(111)\n",
    "    ind = np.arange(len(distrib))\n",
    "    ax.bar(ind, distrib, width = 0.95, align='center', color='k')\n",
    "    plt.xticks(ind, labels, rotation=rot, fontsize = 10)\n",
    "    plt.xlim(xmin=-1)\n",
    "#     plt.legend(loc='upper left')\n",
    "    plt.title(title, fontsize = 10)\n",
    "    plt.ylabel('Volume', fontsize = 10)\n",
    "    plt.tight_layout()\n",
    "    plt.savefig(\"/Users/muntean/refugees-output/plots/\" + title.replace(\" \",\"_\") + \".pdf\")\n",
    "    plt.show()"
   ]
  },
  {
   "cell_type": "code",
   "execution_count": null,
   "metadata": {
    "collapsed": true
   },
   "outputs": [],
   "source": [
    "def plotStackedBar():\n",
    "    import numpy as np\n",
    "    import matplotlib.pyplot as plt\n",
    "\n",
    "\n",
    "    N = 5\n",
    "    menMeans = (20, 35, 30, 35, 27)\n",
    "    womenMeans = (25, 32, 34, 20, 25)\n",
    "    menStd = (2, 3, 4, 1, 2)\n",
    "    womenStd = (3, 5, 2, 3, 3)\n",
    "    ind = np.arange(N)    # the x locations for the groups\n",
    "    width = 0.35       # the width of the bars: can also be len(x) sequence\n",
    "\n",
    "    p1 = plt.bar(ind, menMeans, width, color='r', yerr=menStd)\n",
    "    p2 = plt.bar(ind, womenMeans, width, color='y',\n",
    "                 bottom=menMeans, yerr=womenStd)\n",
    "\n",
    "    plt.ylabel('Scores')\n",
    "    plt.title('Scores by group and gender')\n",
    "    plt.xticks(ind + width/2., ('G1', 'G2', 'G3', 'G4', 'G5'))\n",
    "    plt.yticks(np.arange(0, 81, 10))\n",
    "    plt.legend((p1[0], p2[0]), ('Men', 'Women'))\n",
    "\n",
    "    plt.show()"
   ]
  },
  {
   "cell_type": "code",
   "execution_count": 3,
   "metadata": {
    "collapsed": true
   },
   "outputs": [],
   "source": [
    "def plotBarWithLables2Distrib(a,b, labels, title, rot=0):\n",
    "\n",
    "    #style.use('ggplot')\n",
    "    ind = np.arange(len(a))  # the x locations for the groups\n",
    "    width = 0.35  # the width of the bars\n",
    "\n",
    "    fig, ax = plt.subplots()\n",
    "    rects1 = ax.bar(ind, a, width, color='k')\n",
    "    rects2 = ax.bar(ind + width, b, width, color='w', edgecolor='k')\n",
    "\n",
    "    # add some text for labels, title and axes ticks\n",
    "    ax.set_ylabel('Frequencies')\n",
    "    ax.set_title(title)\n",
    "    ax.set_xticks(ind + width)\n",
    "    ax.set_xticklabels(labels)\n",
    "\n",
    "    plt.setp(ax.get_xticklabels(), rotation=70, horizontalalignment='right')\n",
    "\n",
    "    ax.legend((rects1[0], rects2[0]), ('Negative', 'Positive'), loc='upper left')\n",
    "    \n",
    "#     def autolabel(rects):\n",
    "#         # attach some text labels\n",
    "#         for rect in rects:\n",
    "#             height = rect.get_height()\n",
    "#             ax.text(rect.get_x() + rect.get_width() / 2., 1.05 * height,\n",
    "#                     '%d' % int(height),\n",
    "#                     ha='center', va='bottom')\n",
    "    \n",
    "#     autolabel(rects1)\n",
    "#     autolabel(rects2)\n",
    "\n",
    "#     plt.tight_layout()\n",
    "    plt.savefig(\"/Users/muntean/refugees-output/plots/\"+ title.replace(\" \",\"_\") + \".pdf\")\n",
    "    plt.show()"
   ]
  },
  {
   "cell_type": "markdown",
   "metadata": {},
   "source": [
    "# plots literally"
   ]
  },
  {
   "cell_type": "markdown",
   "metadata": {},
   "source": [
    "#### tweets per day"
   ]
  },
  {
   "cell_type": "code",
   "execution_count": null,
   "metadata": {
    "collapsed": false
   },
   "outputs": [],
   "source": [
    "def plotTweetsPerDay(tweetsPerDayDict):\n",
    "    tweetsPerDay = [[len(y), x] for x, y in tweetsPerDayDict.items() if x is not None and len(y)>20000]\n",
    "    #print tweetsPerDay\n",
    "    tweetsPerDay.sort(key = lambda row: row[1])\n",
    "    #print tweetsPerDay\n",
    "    print \"Tweets per day\", len(tweetsPerDay)\n",
    "    values = list(zip(*tweetsPerDay)[0])\n",
    "    #print values\n",
    "    labels = list(zip(*tweetsPerDay)[1])\n",
    "    new_labels = [str(x)[4:6]+\"-\"+str(x)[6:] for x in labels]\n",
    "    print new_labels\n",
    "    #print labels\n",
    "    plotBarWithLablesNew(values, new_labels, \"Number of tweets per day\", rot=90)"
   ]
  },
  {
   "cell_type": "code",
   "execution_count": null,
   "metadata": {
    "collapsed": false
   },
   "outputs": [],
   "source": [
    "plotTweetsPerDay(dailyTweetsDict)"
   ]
  },
  {
   "cell_type": "markdown",
   "metadata": {},
   "source": [
    "#### tweets per country"
   ]
  },
  {
   "cell_type": "code",
   "execution_count": null,
   "metadata": {
    "collapsed": true
   },
   "outputs": [],
   "source": [
    "def plotTweetsPerCountry(tweetsPerCountryDict):\n",
    "    \"\"\"\n",
    "\n",
    "    :param tweetsPerCountry: is a dictionary of key=country and values=list of tweets ids\n",
    "    :return:\n",
    "    \"\"\"\n",
    "    tweetsPerCountry = [[len(y), x] for x, y in tweetsPerCountryDict.items() if x is not None]\n",
    "    tweetsPerCountry.sort(key = lambda row: row[0], reverse=True)\n",
    "    values = list(zip(*tweetsPerCountry)[0])\n",
    "    cummulative_values = np.cumsum(values)\n",
    "#     labels = list(zip(*tweetsPerCountry)[1])\n",
    "#     plotBarWithLablesNew(values[:20], labels[:20], \"Number of tweets per country\", rot=90)\n",
    "#     plotBarWithLablesNew(cummulative_values[:20], labels[:20], \"Cummulative number of tweets per country\", rot=90)\n",
    "    print cummulative_values\n",
    "    print \"GB\", float(values[0])/cummulative_values[-1]\n",
    "    print \"FR\", float(values[1])/cummulative_values[-1]\n",
    "    print \"DE\", float(values[2])/cummulative_values[-1]"
   ]
  },
  {
   "cell_type": "code",
   "execution_count": null,
   "metadata": {
    "collapsed": false
   },
   "outputs": [],
   "source": [
    "plotTweetsPerCountry(userCountryTweetsDict)"
   ]
  },
  {
   "cell_type": "code",
   "execution_count": null,
   "metadata": {
    "collapsed": false
   },
   "outputs": [],
   "source": [
    "#### top 20 countries per day / per everything\n",
    "def top20countryMentions(dailyTweetsDict, tweetIndex):   \n",
    "    # order chrono\n",
    "    sortedDailyTweetsDict = sorted(x for x,k in dailyTweetsDict.iteritems() if len(k)>20000)\n",
    "    print len(sortedDailyTweetsDict)\n",
    "    \n",
    "    countryMentions = list()\n",
    "    for day, tweetList in dailyTweetsDict.iteritems():\n",
    "        if day in sortedDailyTweetsDict:\n",
    "            for tweet_id in tweetList:\n",
    "                mentions = tweetIndex[tweet_id][\"text_location_mentions_c\"]  #list\n",
    "                for mention in mentions:\n",
    "                    countryMentions.append(mention)\n",
    "    topCountryMentions = Counter(countryMentions).most_common(20)\n",
    "    return topCountryMentions\n",
    "         \n",
    "top20CountryMentions = top10countryMentions(dailyTweetsDict, tweetIndex)\n",
    "print top20CountryMentions"
   ]
  },
  {
   "cell_type": "code",
   "execution_count": null,
   "metadata": {
    "collapsed": false
   },
   "outputs": [],
   "source": [
    "def top20countryMentionsPerDay(dailyTweetsDict, tweetIndex, top20CountryMentions):\n",
    "    # order chrono\n",
    "    sortedDailyTweetsDict = sorted(x for x,k in dailyTweetsDict.iteritems() if len(k)>20000)\n",
    "    #print sortedDailyTweetsDict\n",
    "    \n",
    "    # getTopCountries\n",
    "    topCountries = [x for [x,y] in top20CountryMentions]\n",
    "    #print topCountries\n",
    "    \n",
    "    dailyMentions = dict() \n",
    "    for day, tweetList in dailyTweetsDict.iteritems():\n",
    "        countryMentions = list()\n",
    "        if day in sortedDailyTweetsDict:\n",
    "            for tweet_id in tweetList:\n",
    "                mentions = tweetIndex[tweet_id][\"text_location_mentions_c\"]  #list\n",
    "                for mention in mentions:\n",
    "                    if mention in topCountries:\n",
    "                        countryMentions.append(mention)\n",
    "            topMentions = Counter(countryMentions).most_common()\n",
    "            #print topMentions\n",
    "            orderedTopMentions = sorted(topMentions, key=lambda tup: tup[0])\n",
    "            #print orderedTopMentions\n",
    "            dailyMentions[day] = orderedTopMentions\n",
    "            \n",
    "    # orderd date keys chronologically\n",
    "    sortedDailyMentions = OrderedDict(sorted(dailyMentions.items(), key=lambda t: t[0]))\n",
    "    return sortedDailyMentions\n",
    "\n",
    "dailyMentionDict = top20countryMentionsPerDay(dailyTweetsDict, tweetIndex, top10CountryMentions)\n",
    "print dailyMentionDict.keys()\n",
    "print dailyMentionDict[20150812]\n",
    "print dailyMentionDict[20150815]"
   ]
  },
  {
   "cell_type": "code",
   "execution_count": null,
   "metadata": {
    "collapsed": false
   },
   "outputs": [],
   "source": [
    "#### line plots\n",
    "def plotLines(dailyMentionDict, top20CountryMentions):  \n",
    "    # http://www.randalolson.com/2014/06/28/how-to-make-beautiful-data-visualizations-in-python-with-matplotlib/\n",
    "    # Now that the plot is prepared, it's time to actually plot the data!    \n",
    "    # Note that I plotted the majors in order of the highest % in the final year.    \n",
    "    majors = ['Syria', 'Iran', 'United Kingdom', 'Iraq',    \n",
    "              'Germany', 'Hungary', 'Israel',    \n",
    "              'Ivory Coast', 'Russia', 'Nigeria',    \n",
    "              'Turkey', 'Yemen', 'India',    \n",
    "              'France', 'Greece', 'Libya',    \n",
    "              'Austria', 'Italy', 'China', 'Lebanon'] \n",
    "    majors_alpha = sorted(majors) # 20 countries\n",
    "    ind = range(len(majors_alpha)) # 0:19\n",
    "    days = dailyMentionDict.keys() # 0:29\n",
    "\n",
    "  \n",
    "    # These are the \"Tableau 20\" colors as RGB.    \n",
    "    tableau20 = [(31, 119, 180), (174, 199, 232), (255, 127, 14), (255, 187, 120),    \n",
    "                 (44, 160, 44), (152, 223, 138), (214, 39, 40), (255, 152, 150),    \n",
    "                 (148, 103, 189), (197, 176, 213), (140, 86, 75), (196, 156, 148),    \n",
    "                 (227, 119, 194), (247, 182, 210), (127, 127, 127), (199, 199, 199),    \n",
    "                 (188, 189, 34), (219, 219, 141), (23, 190, 207), (158, 218, 229)]    \n",
    "\n",
    "    # Scale the RGB values to the [0, 1] range, which is the format matplotlib accepts.    \n",
    "    for i in range(len(tableau20)):    \n",
    "        r, g, b = tableau20[i]    \n",
    "        tableau20[i] = (r / 255., g / 255., b / 255.)    \n",
    "\n",
    "    # You typically want your plot to be ~1.33x wider than tall. This plot is a rare    \n",
    "    # exception because of the number of lines being plotted on it.    \n",
    "    # Common sizes: (10, 7.5) and (12, 9)    \n",
    "    country_lines = plt.figure(figsize=(12, 14))    \n",
    "\n",
    "    # Remove the plot frame lines. They are unnecessary chartjunk.    \n",
    "    ax = plt.subplot(111)    \n",
    "    ax.spines[\"top\"].set_visible(False)    \n",
    "    ax.spines[\"bottom\"].set_visible(False)    \n",
    "    ax.spines[\"right\"].set_visible(False)    \n",
    "    ax.spines[\"left\"].set_visible(False)    \n",
    "\n",
    "    # Ensure that the axis ticks only show up on the bottom and left of the plot.    \n",
    "    # Ticks on the right and top of the plot are generally unnecessary chartjunk.    \n",
    "    ax.get_xaxis().tick_bottom()    \n",
    "    ax.get_yaxis().tick_left()    \n",
    "\n",
    "#     Limit the range of the plot to only where the data is.    \n",
    "#     Avoid unnecessary whitespace.    \n",
    "#     plt.ylim(-1, 15000)    \n",
    "#     plt.xlim(-1, 35)    \n",
    "\n",
    "    # Make sure your axis ticks are large enough to be easily read.    \n",
    "    # You don't want your viewers squinting to read your plot.    \n",
    "    plt.yticks(range(0, 13000, 1000), [str(x) for x in range(0, 13000, 1000)], fontsize=10)    \n",
    "    plt.xticks(range(30), days, fontsize=10, rotation=90)     \n",
    "    \n",
    "    ### devo iterare il dizionario in modo verticale\n",
    "    selected_countries = [x for [x,y] in top20CountryMentions[:10]]\n",
    "    print selected_countries\n",
    "    for rank in ind:           \n",
    "        country = majors_alpha[rank]\n",
    "        #if country.lower() not in selected_countries:\n",
    "        #    continue\n",
    "            \n",
    "        countryValues = list()\n",
    "        for day in days:\n",
    "            countryValues.append(dailyMentionDict[day][rank][1])\n",
    "        #N = sum(countryValues)\n",
    "        #countryValues = [float(x)/N for x in countryValues]\n",
    "        if max(countryValues)<1000: continue\n",
    "        plt.semilogy(range(30), np.cumsum(countryValues), lw=2.5, color=tableau20[rank], label = majors_alpha[rank])  \n",
    "        \n",
    "    plt.legend(loc='upper left')\n",
    "#     plt.savefig(\"/Users/muntean/refugees-output/plots/Top_20_country_mentions_max1000_cumm_log.pdf\")\n",
    "#     plt.show()\n",
    "    \n",
    "    # Send updated figure object to Plotly, show result in notebook\n",
    "    # https://plot.ly/python/line-and-scatter-plots-tutorial/\n",
    "    # http://nbviewer.jupyter.org/github/plotly/python-user-guide/blob/master/s6_matplotlylib/s6_matplotlylib.ipynb\n",
    "    # py.iplot(country_lines, filename='plotly-lines')"
   ]
  },
  {
   "cell_type": "code",
   "execution_count": null,
   "metadata": {
    "collapsed": false
   },
   "outputs": [],
   "source": [
    "plotLines(dailyMentionDict, top20CountryMentions)"
   ]
  },
  {
   "cell_type": "markdown",
   "metadata": {},
   "source": [
    "## mentions and sentiments"
   ]
  },
  {
   "cell_type": "code",
   "execution_count": null,
   "metadata": {
    "collapsed": true
   },
   "outputs": [],
   "source": [
    "mentionSentiIndex = stats_enriched_tweets.buildCountrySentiIndexMention(filename)\n"
   ]
  },
  {
   "cell_type": "code",
   "execution_count": null,
   "metadata": {
    "collapsed": false
   },
   "outputs": [],
   "source": [
    "def plotCountrySentimentPerDay(dailySentiDict, countryName, days):\n",
    "    labels = list()\n",
    "    against = list()\n",
    "    pro = list()\n",
    "\n",
    "    dailySentiDictSorted = sorted(dailySentiDict.iteritems(), key=lambda x: x[0])  # order by date\n",
    "    for record in dailySentiDictSorted:\n",
    "        day = record[0]\n",
    "        if day in days:\n",
    "            sentiList = record[1]\n",
    "            labels.append(day)\n",
    "            count_pro = sentiList.count(1)\n",
    "            pro.append(count_pro)\n",
    "            count_anti = sentiList.count(0)\n",
    "            against.append(count_anti)\n",
    "\n",
    "    plotBarWithLables2Distrib(against, pro, labels, countryName.capitalize() + \" sentiment per Day\", rot=70)\n",
    "\n",
    "days = dailyMentionDict.keys()   \n",
    "print len(days)\n",
    "# plotCountrySentimentPerDay(mentionSentiIndex[\"syria\"], \"syria\", days)\n",
    "# plotCountrySentimentPerDay(mentionSentiIndex[\"france\"], \"france\", days)\n",
    "# plotCountrySentimentPerDay(mentionSentiIndex[\"germany\"], \"germany\", days)\n",
    "# plotCountrySentimentPerDay(mentionSentiIndex[\"austria\"], \"austria\", days)\n",
    "# plotCountrySentimentPerDay(mentionSentiIndex[\"united kingdom\"], \"united kingdom\", days)\n",
    "# plotCountrySentimentPerDay(mentionSentiIndex[\"nigeria\"], \"nigeria\", days)\n",
    "# #http://www.voanews.com/media/photogallery/europe-migrant-crisis-september-16-2015/2966005.html\n",
    "# #08.09:http://www.theguardian.com/world/video/2015/sep/08/journalist-appears-to-kick-and-trip-fleeing-refugees-video\n",
    "# plotCountrySentimentPerDay(mentionSentiIndex[\"hungary\"], \"hungary\", days)\n",
    "# plotCountrySentimentPerDay(mentionSentiIndex[\"greece\"], \"greece\", days)\n",
    "# plotCountrySentimentPerDay(mentionSentiIndex[\"serbia\"], \"serbia\", days)\n",
    "# plotCountrySentimentPerDay(mentionSentiIndex[\"macedonia\"], \"macedonia\", days)\n",
    "# plotCountrySentimentPerDay(mentionSentiIndex[\"croatia\"], \"croatia\", days)\n",
    "# plotCountrySentimentPerDay(mentionSentiIndex[\"turkey\"], \"turkey\", days)"
   ]
  },
  {
   "cell_type": "markdown",
   "metadata": {},
   "source": [
    "## location mentions and uniq user sentiment\n"
   ]
  },
  {
   "cell_type": "code",
   "execution_count": 4,
   "metadata": {
    "collapsed": false
   },
   "outputs": [
    {
     "name": "stdout",
     "output_type": "stream",
     "text": [
      "finished step 1\n",
      "finished step 2\n"
     ]
    }
   ],
   "source": [
    "mixedMentionUser = stats_enriched_tweets.buildMixCountryMentionUserSenti(filename)"
   ]
  },
  {
   "cell_type": "code",
   "execution_count": null,
   "metadata": {
    "collapsed": true
   },
   "outputs": [],
   "source": [
    "def plotCountrySentimentPerDay(dailySentiDict, countryName, days):\n",
    "    labels = list()\n",
    "    against = list()\n",
    "    pro = list()\n",
    "\n",
    "    dailySentiDictSorted = sorted(dailySentiDict.iteritems(), key=lambda x: x[0])  # order by date\n",
    "    for record in dailySentiDictSorted:\n",
    "        day = record[0]\n",
    "        if day in days:\n",
    "            sentiList = record[1]\n",
    "            labels.append(day)\n",
    "            count_pro = sentiList.count(1)\n",
    "            pro.append(count_pro)\n",
    "            count_anti = sentiList.count(0)\n",
    "            against.append(count_anti)\n",
    "\n",
    "    plotBarWithLables2Distrib(against, pro, labels, countryName.capitalize() + \" sentiment per Day\", rot=70)\n",
    "\n",
    "days = dailyMentionDict.keys()   \n",
    "print len(days)\n",
    "# plotCountrySentimentPerDay(mentionSentiIndex[\"syria\"], \"syria\", days)"
   ]
  }
 ],
 "metadata": {
  "kernelspec": {
   "display_name": "Python 2",
   "language": "python",
   "name": "python2"
  },
  "language_info": {
   "codemirror_mode": {
    "name": "ipython",
    "version": 2
   },
   "file_extension": ".py",
   "mimetype": "text/x-python",
   "name": "python",
   "nbconvert_exporter": "python",
   "pygments_lexer": "ipython2",
   "version": "2.7.10"
  }
 },
 "nbformat": 4,
 "nbformat_minor": 0
}
