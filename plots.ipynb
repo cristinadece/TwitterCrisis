{
 "cells": [
  {
   "cell_type": "code",
   "execution_count": 8,
   "metadata": {
    "collapsed": true
   },
   "outputs": [],
   "source": [
    "%matplotlib inline"
   ]
  },
  {
   "cell_type": "code",
   "execution_count": 17,
   "metadata": {
    "collapsed": true
   },
   "outputs": [],
   "source": [
    "import stats_enriched_tweets\n",
    "from plots import plot_templates\n",
    "from collections import defaultdict\n",
    "import matplotlib.pyplot as plt"
   ]
  },
  {
   "cell_type": "code",
   "execution_count": 10,
   "metadata": {
    "collapsed": true
   },
   "outputs": [],
   "source": [
    "# countryIndex = stats_enriched_tweets.buildCountrySentiIndex(\"/Users/muntean/refugees-output/refugees-with-final-new.json\")\n",
    "# print \"finished building index\", len(countryIndex)\n",
    "\n",
    "def buildCountrySentiIndex(filename, location_field_name, senti_field_name):\n",
    "    \"\"\"\n",
    "    The structure is a dictionary < location : dictionary <date, [list of sentiments - repeating e.g. 0,1,1,0,1 ...]> >\n",
    "    :param filename:\n",
    "    :return:\n",
    "    \"\"\"\n",
    "    countryIndex = defaultdict(lambda : defaultdict(list))\n",
    "    tweetsAsDict = stats_enriched_tweets.tweetIter(filename)\n",
    "    i = 0\n",
    "    for tweet in tweetsAsDict:\n",
    "        i += 1\n",
    "        if tweet[location_field_name] and senti_field_name in tweet:\n",
    "            countries = tweet[location_field_name]\n",
    "            day = tweet[\"day\"]\n",
    "            if day>20150909:\n",
    "                print day\n",
    "            sentiment = tweet[senti_field_name]\n",
    "            if senti_field_name == \"sentiment_tweet\":\n",
    "                if sentiment == \"pro_ref\":\n",
    "                    senti = 1\n",
    "                else:\n",
    "                    senti = 0\n",
    "            for country in countries:\n",
    "#                 if country == \"united kingdom\":\n",
    "#                     print day\n",
    "                countryIndex[country][day].append(senti)\n",
    "\n",
    "        # if i % 30000 == 0:\n",
    "        #     # print i\n",
    "        #     break\n",
    "    return countryIndex"
   ]
  },
  {
   "cell_type": "code",
   "execution_count": 11,
   "metadata": {
    "collapsed": true
   },
   "outputs": [],
   "source": [
    "countryIndex = buildCountrySentiIndex(\"/Users/muntean/refugees-output/refugees-with-final-new.json\", \"text_location_mentions_c\", \"sentiment_tweet\")"
   ]
  },
  {
   "cell_type": "code",
   "execution_count": null,
   "metadata": {
    "collapsed": true
   },
   "outputs": [],
   "source": [
    "print countryIndex.keys()"
   ]
  },
  {
   "cell_type": "code",
   "execution_count": null,
   "metadata": {
    "collapsed": true
   },
   "outputs": [],
   "source": [
    "def plotCountrySentimentPerDay(dailySentiDict):\n",
    "    labels = list()\n",
    "    against = list()\n",
    "    pro = list()\n",
    "\n",
    "    dailySentiDictSorted = sorted(dailySentiDict.iteritems(), key=lambda x: x[0])  # order by date\n",
    "    for record in dailySentiDictSorted:\n",
    "        day = record[0]\n",
    "        sentiList = record[1]\n",
    "        labels.append(day)\n",
    "        count_pro = sentiList.count(1)\n",
    "        pro.append(count_pro)\n",
    "        count_anti = sentiList.count(0)\n",
    "        against.append(count_anti)\n",
    "\n",
    "    plot_templates.plotBarWithLables2Distrib(against, pro, labels, \"Country Sentiment per Day\", rot=70)"
   ]
  },
  {
   "cell_type": "code",
   "execution_count": null,
   "metadata": {
    "collapsed": true
   },
   "outputs": [],
   "source": [
    "plotCountrySentimentPerDay(countryIndex[\"france\"])"
   ]
  },
  {
   "cell_type": "code",
   "execution_count": 12,
   "metadata": {
    "collapsed": false
   },
   "outputs": [
    {
     "data": {
      "image/png": "[encoded data removed]"
     },
     "metadata": {},
     "output_type": "display_data"
    }
   ],
   "source": [
    "plot_templates.plotCountrySentiment(countryIndex)"
   ]
  },
  {
   "cell_type": "code",
   "execution_count": 15,
   "metadata": {
    "collapsed": true
   },
   "outputs": [],
   "source": [
    "def plotCountrySentiment(countryIndex):\n",
    "\n",
    "    plot_templates.setStyle()\n",
    "    num_countries = len(countryIndex)\n",
    "\n",
    "    fig, ax = plt.subplots(num_countries, 1)\n",
    "\n",
    "    i = 0\n",
    "    for country in countryIndex[:1]:\n",
    "        labels = list()\n",
    "        against = list()\n",
    "        pro = list()\n",
    "\n",
    "        dailySentiDictSorted = sorted(countryIndex[country].iteritems(), key=lambda x: x[0])  # order by date\n",
    "        for record in dailySentiDictSorted:\n",
    "            day = record[0]\n",
    "            sentiList = record[1]\n",
    "            labels.append(day)\n",
    "            count_pro = sentiList.count(1)\n",
    "            pro.append(count_pro)\n",
    "            count_anti = sentiList.count(0)\n",
    "            against.append(count_anti)\n",
    "\n",
    "        # plotSubplot(ax[i], against, pro, labels, country.capitalize() + \"sentiment per Day\", rot=70)\n",
    "        # i += 1\n",
    "        ind = np.arange(len(against))  # the x locations for the groups\n",
    "        width = 0.35  # the width of the bars\n",
    "\n",
    "        rects1 = ax[i].bar(ind, against, width, color='r')\n",
    "        rects2 = ax[i].bar(ind + width, pro, width, color='b')\n",
    "\n",
    "        # add some text for labels, title and axes ticks\n",
    "        ax[i].set_ylabel('Frequencies')\n",
    "        ax[i].set_title(country.capitalize() + \"sentiment per Day\")\n",
    "        ax[i].set_xticks(ind + width)\n",
    "        ax[i].set_xticklabels(labels)\n",
    "\n",
    "        plt.setp(ax[i].get_xticklabels(), rotation=70, horizontalalignment='right')\n",
    "\n",
    "    plt.show\n",
    "#     plt.tight_layout()\n",
    "#     plt.savefig(\"/Users/muntean/mentioned-county-sentim.pdf\")"
   ]
  },
  {
   "cell_type": "code",
   "execution_count": 16,
   "metadata": {
    "collapsed": false
   },
   "outputs": [
    {
     "ename": "NameError",
     "evalue": "global name 'plt' is not defined",
     "output_type": "error",
     "traceback": [
      "\u001b[0;31m---------------------------------------------------------------------------\u001b[0m",
      "\u001b[0;31mNameError\u001b[0m                                 Traceback (most recent call last)",
      "\u001b[0;32m<ipython-input-16-841633edf6fb>\u001b[0m in \u001b[0;36m<module>\u001b[0;34m()\u001b[0m\n\u001b[0;32m----> 1\u001b[0;31m \u001b[0mplotCountrySentiment\u001b[0m\u001b[0;34m(\u001b[0m\u001b[0mcountryIndex\u001b[0m\u001b[0;34m)\u001b[0m\u001b[0;34m\u001b[0m\u001b[0m\n\u001b[0m",
      "\u001b[0;32m<ipython-input-15-f26d8ea4eb8a>\u001b[0m in \u001b[0;36mplotCountrySentiment\u001b[0;34m(countryIndex)\u001b[0m\n\u001b[1;32m      4\u001b[0m     \u001b[0mnum_countries\u001b[0m \u001b[0;34m=\u001b[0m \u001b[0mlen\u001b[0m\u001b[0;34m(\u001b[0m\u001b[0mcountryIndex\u001b[0m\u001b[0;34m)\u001b[0m\u001b[0;34m\u001b[0m\u001b[0m\n\u001b[1;32m      5\u001b[0m \u001b[0;34m\u001b[0m\u001b[0m\n\u001b[0;32m----> 6\u001b[0;31m     \u001b[0mfig\u001b[0m\u001b[0;34m,\u001b[0m \u001b[0max\u001b[0m \u001b[0;34m=\u001b[0m \u001b[0mplt\u001b[0m\u001b[0;34m.\u001b[0m\u001b[0msubplots\u001b[0m\u001b[0;34m(\u001b[0m\u001b[0mnum_countries\u001b[0m\u001b[0;34m,\u001b[0m \u001b[0;36m1\u001b[0m\u001b[0;34m)\u001b[0m\u001b[0;34m\u001b[0m\u001b[0m\n\u001b[0m\u001b[1;32m      7\u001b[0m \u001b[0;34m\u001b[0m\u001b[0m\n\u001b[1;32m      8\u001b[0m     \u001b[0mi\u001b[0m \u001b[0;34m=\u001b[0m \u001b[0;36m0\u001b[0m\u001b[0;34m\u001b[0m\u001b[0m\n",
      "\u001b[0;31mNameError\u001b[0m: global name 'plt' is not defined"
     ]
    }
   ],
   "source": [
    "plotCountrySentiment(countryIndex)"
   ]
  },
  {
   "cell_type": "code",
   "execution_count": null,
   "metadata": {
    "collapsed": true
   },
   "outputs": [],
   "source": []
  }
 ],
 "metadata": {
  "kernelspec": {
   "display_name": "Python 2",
   "language": "python",
   "name": "python2"
  },
  "language_info": {
   "codemirror_mode": {
    "name": "ipython",
    "version": 2
   },
   "file_extension": ".py",
   "mimetype": "text/x-python",
   "name": "python",
   "nbconvert_exporter": "python",
   "pygments_lexer": "ipython2",
   "version": "2.7.11"
  }
 },
 "nbformat": 4,
 "nbformat_minor": 0
}
