{
 "cells": [
  {
   "cell_type": "code",
   "execution_count": 1,
   "metadata": {
    "collapsed": false
   },
   "outputs": [
    {
     "name": "stderr",
     "output_type": "stream",
     "text": [
      "/home/muntean/anaconda2/lib/python2.7/site-packages/matplotlib/font_manager.py:273: UserWarning: Matplotlib is building the font cache using fc-list. This may take a moment.\n",
      "  warnings.warn('Matplotlib is building the font cache using fc-list. This may take a moment.')\n"
     ]
    }
   ],
   "source": [
    "%matplotlib inline"
   ]
  },
  {
   "cell_type": "code",
   "execution_count": 2,
   "metadata": {
    "collapsed": false
   },
   "outputs": [
    {
     "name": "stderr",
     "output_type": "stream",
     "text": [
      "/home/muntean/anaconda2/lib/python2.7/site-packages/mpltools/style/__init__.py:42: FutureWarning: \n",
      "\n",
      "    The style-sheet functionality in mpltools has been integrated into\n",
      "    Matplotlib >= 1.4. This module will be removed in a future release.\n",
      "\n",
      "    Note that style-sheets used by `matplotlib.style` use the standard\n",
      "    Matplotlib rc-file syntax instead of the INI format used by `mpltools`.\n",
      "    This mostly means un-quoting strings and changing '=' to ':'.\n",
      "\n",
      "\n",
      "  \"\"\", FutureWarning)\n"
     ]
    }
   ],
   "source": [
    "import stats_enriched_tweets\n",
    "from collections import defaultdict\n",
    "import matplotlib\n",
    "import matplotlib.pyplot as plt\n",
    "from matplotlib.ticker import ScalarFormatter, FormatStrFormatter\n",
    "from mpltools import style\n",
    "import numpy as np\n",
    "from collections import Counter, OrderedDict\n",
    "import pandas as pd\n",
    "import plotly.plotly as py\n",
    "\n",
    "filename_pre = \"/home/muntean/brexit-enriched/all-brexit-with-sent_pre-lines.json\"\n",
    "filename_post = \"/home/muntean/brexit-enriched/all-brexit-with-sent_post-lines.json\""
   ]
  },
  {
   "cell_type": "code",
   "execution_count": 3,
   "metadata": {
    "collapsed": true
   },
   "outputs": [],
   "source": [
    "def tweetIter(inputfile):\n",
    "    \"\"\"\n",
    "    Iterates a JSON file containing enriches tweets\n",
    "    :param inputfile: the file to iterate over\n",
    "    :return:\n",
    "    \"\"\"\n",
    "    for line in codecs.open(inputfile, \"r\", \"utf-8\"):\n",
    "        try:\n",
    "            tweet = json.loads(line)\n",
    "        except:\n",
    "            print \"Couldn't parse tweet: \", line[:200]\n",
    "        yield tweet"
   ]
  },
  {
   "cell_type": "markdown",
   "metadata": {},
   "source": [
    "# build all dicts while reading"
   ]
  },
  {
   "cell_type": "code",
   "execution_count": 4,
   "metadata": {
    "collapsed": false
   },
   "outputs": [
    {
     "name": "stdout",
     "output_type": "stream",
     "text": [
      "100000\n",
      "200000\n",
      "231629\n",
      "100000\n",
      "200000\n",
      "300000\n",
      "400000\n",
      "500000\n",
      "600000\n",
      "700000\n",
      "800000\n",
      "900000\n",
      "968044\n"
     ]
    }
   ],
   "source": [
    "# 1. PRE and POST\n",
    "# Given a file (PRE or POST): \n",
    "#    - we need daily volumes \n",
    "#    - we need country volumes\n",
    "\n",
    "pre_tweetIndex = stats_enriched_tweets.createTweetIndex(filename_pre)\n",
    "print len(pre_tweetIndex)\n",
    "\n",
    "post_tweetIndex = stats_enriched_tweets.createTweetIndex(filename_post)\n",
    "print len(post_tweetIndex)"
   ]
  },
  {
   "cell_type": "code",
   "execution_count": 5,
   "metadata": {
    "collapsed": false
   },
   "outputs": [
    {
     "name": "stdout",
     "output_type": "stream",
     "text": [
      "PRE brexit\n",
      "Daily tweets - volumes: 6\n",
      "User country tweets - volumes - EU: 49\n"
     ]
    }
   ],
   "source": [
    "# 2. masks over tweet index pre\n",
    "print \"PRE brexit\"\n",
    "pre_dailyTweetsDict = stats_enriched_tweets.createDailyTweetsMask(pre_tweetIndex)\n",
    "print \"Daily tweets - volumes:\", len(pre_dailyTweetsDict)\n",
    "pre_userCountryTweetsDict = stats_enriched_tweets.createUserCountryTweetsMask(pre_tweetIndex)\n",
    "print \"User country tweets - volumes - EU:\", len(pre_userCountryTweetsDict)\n"
   ]
  },
  {
   "cell_type": "code",
   "execution_count": 6,
   "metadata": {
    "collapsed": false
   },
   "outputs": [
    {
     "name": "stdout",
     "output_type": "stream",
     "text": [
      "20160617 1\n",
      "20160618 23677\n",
      "20160619 33389\n",
      "20160620 49577\n",
      "20160621 55435\n",
      "20160622 69550\n"
     ]
    }
   ],
   "source": [
    "for k,v in pre_dailyTweetsDict.iteritems():\n",
    "    print k, len(v)"
   ]
  },
  {
   "cell_type": "code",
   "execution_count": 7,
   "metadata": {
    "collapsed": false,
    "scrolled": true
   },
   "outputs": [
    {
     "name": "stdout",
     "output_type": "stream",
     "text": [
      "BE 1477\n",
      "FR 3268\n",
      "BG 116\n",
      "DK 341\n",
      "VA 5\n",
      "HR 66\n",
      "DE 2409\n",
      "HU 173\n",
      "FI 430\n",
      "BY 18\n",
      "BA 18\n",
      "RU 382\n",
      "NL 1853\n",
      "PT 618\n",
      "NO 468\n",
      "TR 507\n",
      "LI 4\n",
      "LV 60\n",
      "LT 47\n",
      "LU 105\n",
      "ES 2234\n",
      "RO 136\n",
      "PL 374\n",
      "XK 27\n",
      "CH 684\n",
      "GR 591\n",
      "EE 77\n",
      "IS 86\n",
      "AL 53\n",
      "IT 1303\n",
      "GG 86\n",
      "CZ 207\n",
      "CY 215\n",
      "IM 146\n",
      "GB 205218\n",
      "AD 1\n",
      "IE 5562\n",
      "GI 463\n",
      "ME 10\n",
      "MD 5\n",
      "MC 38\n",
      "RS 120\n",
      "MK 27\n",
      "SK 87\n",
      "MT 136\n",
      "SI 78\n",
      "UA 185\n",
      "SE 878\n",
      "AT 237\n"
     ]
    }
   ],
   "source": [
    "for k,v in pre_userCountryTweetsDict.iteritems():\n",
    "    print k, len(v)"
   ]
  },
  {
   "cell_type": "code",
   "execution_count": 8,
   "metadata": {
    "collapsed": false
   },
   "outputs": [
    {
     "name": "stdout",
     "output_type": "stream",
     "text": [
      "POST brexit\n",
      "Daily tweets - volumes: 11\n"
     ]
    }
   ],
   "source": [
    "# 2. masks over tweet index post\n",
    "print \"POST brexit\"\n",
    "post_dailyTweetsDict = stats_enriched_tweets.createDailyTweetsMask(post_tweetIndex)\n",
    "print \"Daily tweets - volumes:\", len(post_dailyTweetsDict)"
   ]
  },
  {
   "cell_type": "code",
   "execution_count": 9,
   "metadata": {
    "collapsed": false
   },
   "outputs": [
    {
     "name": "stdout",
     "output_type": "stream",
     "text": [
      "User country tweets - volumes - EU: 52\n"
     ]
    }
   ],
   "source": [
    "post_userCountryTweetsDict = stats_enriched_tweets.createUserCountryTweetsMask(post_tweetIndex)\n",
    "print \"User country tweets - volumes - EU:\", len(post_userCountryTweetsDict)"
   ]
  },
  {
   "cell_type": "code",
   "execution_count": 10,
   "metadata": {
    "collapsed": false
   },
   "outputs": [
    {
     "name": "stdout",
     "output_type": "stream",
     "text": [
      "20160704 42564\n",
      "20160624 331895\n",
      "20160625 84164\n",
      "20160626 91813\n",
      "20160627 130235\n",
      "20160628 84284\n",
      "20160629 61895\n",
      "20160630 38694\n",
      "20160701 39825\n",
      "20160702 31806\n",
      "20160703 30869\n"
     ]
    }
   ],
   "source": [
    "for k,v in post_dailyTweetsDict.iteritems():\n",
    "    print k, len(v)"
   ]
  },
  {
   "cell_type": "code",
   "execution_count": 11,
   "metadata": {
    "collapsed": false
   },
   "outputs": [
    {
     "name": "stdout",
     "output_type": "stream",
     "text": [
      "BE 7806\n",
      "FR 20451\n",
      "BG 684\n",
      "DK 2152\n",
      "XK 171\n",
      "HR 528\n",
      "DE 19012\n",
      "HU 922\n",
      "FI 4126\n",
      "BY 149\n",
      "BA 192\n",
      "RU 1970\n",
      "NL 11086\n",
      "PT 3796\n",
      "NO 2997\n",
      "TR 3391\n",
      "LI 13\n",
      "LV 591\n",
      "LT 275\n",
      "LU 696\n",
      "GI 1110\n",
      "RO 801\n",
      "PL 2141\n",
      "VA 48\n",
      "CH 3339\n",
      "GR 3528\n",
      "EE 479\n",
      "IS 679\n",
      "AL 284\n",
      "IT 7200\n",
      "GG 375\n",
      "CZ 1265\n",
      "CY 1040\n",
      "IM 608\n",
      "GB 803490\n",
      "AX 4\n",
      "AD 19\n",
      "IE 34117\n",
      "ES 14262\n",
      "ME 61\n",
      "MD 26\n",
      "MC 167\n",
      "RS 640\n",
      "FO 15\n",
      "MK 240\n",
      "SK 397\n",
      "MT 647\n",
      "SI 501\n",
      "SM 16\n",
      "UA 1070\n",
      "SE 6441\n",
      "AT 2026\n"
     ]
    }
   ],
   "source": [
    "for k,v in post_userCountryTweetsDict.iteritems():\n",
    "    print k, len(v)"
   ]
  },
  {
   "cell_type": "markdown",
   "metadata": {},
   "source": [
    "# plot types"
   ]
  },
  {
   "cell_type": "code",
   "execution_count": 87,
   "metadata": {
    "collapsed": true
   },
   "outputs": [],
   "source": [
    "def plotBarWithLables(distrib, labels, title, rot=0):\n",
    "    style.use('ggplot')\n",
    "    plt.figure()\n",
    "    ind = np.arange(len(distrib))\n",
    "    the_plot = plt.bar(ind, distrib, width = 0.75, align='center', color='k', log=True)\n",
    "    the_plot[5].set_color('r')\n",
    "    plt.xticks(ind, labels, rotation=rot, fontsize = 10)\n",
    "    plt.title(title, fontsize = 10)\n",
    "    plt.ylabel('Number of tweets', fontsize = 10)\n",
    "    plt.tight_layout()\n",
    "    plt.xlim(xmin=-1, xmax=17)\n",
    "#     plt.ylim(ymax=75000)\n",
    "    plt.savefig(\"/home/muntean/brexit-enriched/plots/\" + title.replace(\" \",\"_\") + \".pdf\")\n",
    "    plt.show()"
   ]
  },
  {
   "cell_type": "code",
   "execution_count": 74,
   "metadata": {
    "collapsed": true
   },
   "outputs": [],
   "source": [
    "def plotBarWithLables2Distrib(a,b, labels, title, rot=0):\n",
    "\n",
    "    #style.use('ggplot')\n",
    "    ind = np.arange(len(a))  # the x locations for the groups\n",
    "    width = 0.35  # the width of the bars\n",
    "\n",
    "    fig, ax = plt.subplots()\n",
    "    rects1 = ax.bar(ind, a, width, color='k')\n",
    "    rects2 = ax.bar(ind + width, b, width, color='w', edgecolor='k')\n",
    "\n",
    "    # add some text for labels, title and axes ticks\n",
    "    ax.set_ylabel('Number of tweets')\n",
    "#     ax.set_title(title)\n",
    "    ax.set_xticks(ind + width)\n",
    "    \n",
    "    ax.set_xticklabels(labels)\n",
    "\n",
    "    plt.setp(ax.get_xticklabels(), rotation=90, horizontalalignment='right')\n",
    "\n",
    "    ax.legend((rects1[0], rects2[0]), ('Pre-Brexit', 'Post-Brexit'), loc='upper left')\n",
    "    \n",
    "#     def autolabel(rects):\n",
    "#         # attach some text labels\n",
    "#         for rect in rects:\n",
    "#             height = rect.get_height()\n",
    "#             ax.text(rect.get_x() + rect.get_width() / 2., 1.05 * height,\n",
    "#                     '%d' % int(height),\n",
    "#                     ha='center', va='bottom')\n",
    "    \n",
    "#     autolabel(rects1)\n",
    "#     autolabel(rects2)\n",
    "\n",
    "#     plt.tight_layout()\n",
    "    plt.savefig(\"/home/muntean/brexit-enriched/plots/\"+ title.replace(\" \",\"_\") + \".pdf\")\n",
    "    plt.show()"
   ]
  },
  {
   "cell_type": "markdown",
   "metadata": {},
   "source": [
    "# plots literally"
   ]
  },
  {
   "cell_type": "markdown",
   "metadata": {},
   "source": [
    "#### tweets per day"
   ]
  },
  {
   "cell_type": "code",
   "execution_count": 18,
   "metadata": {
    "collapsed": true
   },
   "outputs": [],
   "source": [
    "def plotTweetsPerDay(tweetsPerDayDict1, tweetsPerDayDict2):\n",
    "    tweetsPerDay1 = [[len(y), x] for x, y in tweetsPerDayDict1.items() if x is not None and len(y)>20000]\n",
    "    tweetsPerDay2 = [[len(y), x] for x, y in tweetsPerDayDict2.items() if x is not None and len(y)>20000]\n",
    "    print tweetsPerDay1\n",
    "    print tweetsPerDay2\n",
    "    \n",
    "    tweetsPerDay = tweetsPerDay1 + [[288091, 20160623]] + tweetsPerDay2\n",
    "    print tweetsPerDay\n",
    "    \n",
    "    tweetsPerDay.sort(key = lambda row: row[1])\n",
    "    #print tweetsPerDay\n",
    "    print \"Tweets per day\", len(tweetsPerDay)\n",
    "    \n",
    "    values = list(zip(*tweetsPerDay)[0])\n",
    "    #print values\n",
    "    labels = list(zip(*tweetsPerDay)[1])\n",
    "    new_labels = [str(x)[4:6]+\"-\"+str(x)[6:] for x in labels]\n",
    "    print new_labels\n",
    "    #print labels\n",
    "    plotBarWithLables(values, new_labels, \"Number of tweets per day\", rot=90)"
   ]
  },
  {
   "cell_type": "code",
   "execution_count": 88,
   "metadata": {
    "collapsed": false
   },
   "outputs": [
    {
     "name": "stdout",
     "output_type": "stream",
     "text": [
      "[[23677, 20160618], [33389, 20160619], [49577, 20160620], [55435, 20160621], [69550, 20160622]]\n",
      "[[42564, 20160704], [331895, 20160624], [84164, 20160625], [91813, 20160626], [130235, 20160627], [84284, 20160628], [61895, 20160629], [38694, 20160630], [39825, 20160701], [31806, 20160702], [30869, 20160703]]\n",
      "[[23677, 20160618], [33389, 20160619], [49577, 20160620], [55435, 20160621], [69550, 20160622], [288091, 20160623], [42564, 20160704], [331895, 20160624], [84164, 20160625], [91813, 20160626], [130235, 20160627], [84284, 20160628], [61895, 20160629], [38694, 20160630], [39825, 20160701], [31806, 20160702], [30869, 20160703]]\n",
      "Tweets per day 17\n",
      "['06-18', '06-19', '06-20', '06-21', '06-22', '06-23', '06-24', '06-25', '06-26', '06-27', '06-28', '06-29', '06-30', '07-01', '07-02', '07-03', '07-04']\n"
     ]
    },
    {
     "data": {
      "image/png": "[encoded data removed]",
      "text/plain": [
       "<matplotlib.figure.Figure at 0x7f9fe141f250>"
      ]
     },
     "metadata": {},
     "output_type": "display_data"
    }
   ],
   "source": [
    "plotTweetsPerDay(pre_dailyTweetsDict, post_dailyTweetsDict)"
   ]
  },
  {
   "cell_type": "markdown",
   "metadata": {},
   "source": [
    "#### tweets per country"
   ]
  },
  {
   "cell_type": "code",
   "execution_count": 85,
   "metadata": {
    "collapsed": false
   },
   "outputs": [],
   "source": [
    "import numpy\n",
    "def plotTweetsPerCountryPrePost(pre_tweetsPerCountryDict, post_tweetsPerCountryDict):\n",
    "    \n",
    "    pre_tweetsPerCountry = [[len(y), x] for x, y in pre_tweetsPerCountryDict.items() if x is not None]\n",
    "    post_tweetsPerCountry = [[len(y), x] for x, y in post_tweetsPerCountryDict.items() if x is not None]\n",
    "    \n",
    "    print pre_tweetsPerCountry\n",
    "    \n",
    "    #sum countries\n",
    "    countryDict = defaultdict()\n",
    "    for item in pre_tweetsPerCountry:\n",
    "        countryDict[item[1]] = item[0] \n",
    "    for item in post_tweetsPerCountry:\n",
    "        if item[1] in countryDict:\n",
    "            countryDict[item[1]] += item[0]\n",
    "        \n",
    "    countryDictSorted = sorted(countryDict.iteritems(), key=lambda x: x[1], reverse=True)  # order by frequency\n",
    "    print countryDictSorted\n",
    "    \n",
    "    \n",
    "    labels = [x for [x,y] in countryDictSorted[:20]]\n",
    "    print labels\n",
    "\n",
    "    \n",
    "    pre_freq = list()\n",
    "    pre_countries = {y : x for [x,y] in pre_tweetsPerCountry}\n",
    "    for country in labels:\n",
    "        pre_freq.append(pre_countries[country])\n",
    "    print pre_freq\n",
    "    \n",
    "    post_freq = list()\n",
    "    post_countries = {y : x for [x,y] in post_tweetsPerCountry}\n",
    "    for country in labels:\n",
    "        post_freq.append(post_countries[country])\n",
    "    print post_freq\n",
    "\n",
    "    labels[0] = u\"UK\"  # ok????\n",
    "    print labels\n",
    "    plotBarWithLables2Distrib(numpy.log10(pre_freq), numpy.log10(post_freq), labels, \"tweets_per_Country_pre_post_log_scale\", rot=90)\n",
    "    plotBarWithLables2Distrib(pre_freq, post_freq, labels, \"tweets_per_Country_pre_post\", rot=90)"
   ]
  },
  {
   "cell_type": "code",
   "execution_count": 86,
   "metadata": {
    "collapsed": false
   },
   "outputs": [
    {
     "name": "stdout",
     "output_type": "stream",
     "text": [
      "[[1477, u'BE'], [3268, u'FR'], [116, u'BG'], [341, u'DK'], [5, u'VA'], [66, u'HR'], [2409, u'DE'], [173, u'HU'], [430, u'FI'], [18, u'BY'], [18, u'BA'], [382, u'RU'], [1853, u'NL'], [618, u'PT'], [468, u'NO'], [507, u'TR'], [4, u'LI'], [60, u'LV'], [47, u'LT'], [105, u'LU'], [2234, u'ES'], [136, u'RO'], [374, u'PL'], [27, u'XK'], [684, u'CH'], [591, u'GR'], [77, u'EE'], [86, u'IS'], [53, u'AL'], [1303, u'IT'], [86, u'GG'], [207, u'CZ'], [215, u'CY'], [146, u'IM'], [205218, u'GB'], [1, u'AD'], [5562, u'IE'], [463, u'GI'], [10, u'ME'], [5, u'MD'], [38, u'MC'], [120, u'RS'], [27, u'MK'], [87, u'SK'], [136, u'MT'], [78, u'SI'], [185, u'UA'], [878, u'SE'], [237, u'AT']]\n",
      "[(u'GB', 1008708), (u'IE', 39679), (u'FR', 23719), (u'DE', 21421), (u'ES', 16496), (u'NL', 12939), (u'BE', 9283), (u'IT', 8503), (u'SE', 7319), (u'FI', 4556), (u'PT', 4414), (u'GR', 4119), (u'CH', 4023), (u'TR', 3898), (u'NO', 3465), (u'PL', 2515), (u'DK', 2493), (u'RU', 2352), (u'AT', 2263), (u'GI', 1573), (u'CZ', 1472), (u'CY', 1255), (u'UA', 1255), (u'HU', 1095), (u'RO', 937), (u'LU', 801), (u'BG', 800), (u'MT', 783), (u'IS', 765), (u'RS', 760), (u'IM', 754), (u'LV', 651), (u'HR', 594), (u'SI', 579), (u'EE', 556), (u'SK', 484), (u'GG', 461), (u'AL', 337), (u'LT', 322), (u'MK', 267), (u'BA', 210), (u'MC', 205), (u'XK', 198), (u'BY', 167), (u'ME', 71), (u'VA', 53), (u'MD', 31), (u'AD', 20), (u'LI', 17)]\n",
      "[u'GB', u'IE', u'FR', u'DE', u'ES', u'NL', u'BE', u'IT', u'SE', u'FI', u'PT', u'GR', u'CH', u'TR', u'NO', u'PL', u'DK', u'RU', u'AT', u'GI']\n",
      "[205218, 5562, 3268, 2409, 2234, 1853, 1477, 1303, 878, 430, 618, 591, 684, 507, 468, 374, 341, 382, 237, 463]\n",
      "[803490, 34117, 20451, 19012, 14262, 11086, 7806, 7200, 6441, 4126, 3796, 3528, 3339, 3391, 2997, 2141, 2152, 1970, 2026, 1110]\n",
      "[u'UK', u'IE', u'FR', u'DE', u'ES', u'NL', u'BE', u'IT', u'SE', u'FI', u'PT', u'GR', u'CH', u'TR', u'NO', u'PL', u'DK', u'RU', u'AT', u'GI']\n"
     ]
    },
    {
     "data": {
      "image/png": "[encoded data removed]",
      "text/plain": [
       "<matplotlib.figure.Figure at 0x7f9fe17d4fd0>"
      ]
     },
     "metadata": {},
     "output_type": "display_data"
    },
    {
     "data": {
      "image/png": "[encoded data removed]",
      "text/plain": [
       "<matplotlib.figure.Figure at 0x7f9fe164e710>"
      ]
     },
     "metadata": {},
     "output_type": "display_data"
    }
   ],
   "source": [
    "plotTweetsPerCountryPrePost(pre_userCountryTweetsDict, post_userCountryTweetsDict)"
   ]
  },
  {
   "cell_type": "code",
   "execution_count": 89,
   "metadata": {
    "collapsed": true
   },
   "outputs": [],
   "source": [
    "def top20countryMentions(dailyTweetsDict, tweetIndex):   \n",
    "    # order chrono\n",
    "    sortedDailyTweetsDict = sorted(x for x,k in dailyTweetsDict.iteritems() if len(k)>20000)\n",
    "    # print len(sortedDailyTweetsDict)\n",
    "    \n",
    "    countryMentions = list()\n",
    "    for day, tweetList in dailyTweetsDict.iteritems():\n",
    "        if day in sortedDailyTweetsDict:\n",
    "            for tweet_id in tweetList:\n",
    "                mentions = tweetIndex[tweet_id][\"ht\"]  #list\n",
    "                for mention in mentions:\n",
    "                    countryMentions.append(mention)\n",
    "    #topCountryMentions = Counter(countryMentions).most_common(20)\n",
    "    topCountryMentions = Counter(countryMentions).most_common()\n",
    "    \n",
    "    return topCountryMentions"
   ]
  },
  {
   "cell_type": "code",
   "execution_count": 169,
   "metadata": {
    "collapsed": true
   },
   "outputs": [],
   "source": [
    "### be aware of the difference between MENTIONS IN TEXT and HASHTAGS IN HASHTAG LIST\n",
    "politicians = [\"david cameron\", \"theresa may\", \"nigel farage\", \"boris johnson\", \"david davis\", \"joe cox\", \n",
    "               \"jeremy corbyn\", \"george osborne\", \"nicola sturgeon\"]\n",
    "politician_ht = [\"marr\", \"jocox\", \"cameron\", \"peston\", \"farage\", \"borisjohnson\", \"corbyn\"]\n",
    "parties = [\"ukip\", \"labour\", \"tories\"]"
   ]
  },
  {
   "cell_type": "code",
   "execution_count": 90,
   "metadata": {
    "collapsed": false
   },
   "outputs": [
    {
     "name": "stdout",
     "output_type": "stream",
     "text": [
      "15158\n",
      "37832\n"
     ]
    }
   ],
   "source": [
    "#### hashtags\n",
    "pre_top20CountryMentions = top20countryMentions(pre_dailyTweetsDict, pre_tweetIndex)\n",
    "print len(pre_top20CountryMentions)\n",
    "\n",
    "post_top20CountryMentions = top20countryMentions(post_dailyTweetsDict, post_tweetIndex)\n",
    "print len(post_top20CountryMentions)"
   ]
  },
  {
   "cell_type": "code",
   "execution_count": 220,
   "metadata": {
    "collapsed": false
   },
   "outputs": [
    {
     "name": "stdout",
     "output_type": "stream",
     "text": [
      "0 (u'euref', 28222)\n",
      "1 (u'brexit', 27899)\n",
      "2 (u'voteleave', 24219)\n",
      "3 (u'remain', 13058)\n",
      "4 (u'voteremain', 10204)\n",
      "5 (u'bbcdebate', 9690)\n",
      "6 (u'strongerin', 7110)\n",
      "7 (u'eu', 5467)\n",
      "8 (u'eureferendum', 4351)\n",
      "9 (u'uk', 4238)\n",
      "10 (u'leave', 3693)\n",
      "11 (u'bbcqt', 3149)\n",
      "12 (u'euro2016', 2882)\n",
      "13 (u'eng', 2611)\n",
      "14 (u'leaveeu', 2105)\n",
      "15 (u'c4debate', 1926)\n",
      "16 (u'takecontrol', 1846)\n",
      "17 (u'labourinforbritain', 1795)\n",
      "18 (u'inorout', 1725)\n",
      "19 (u'engslo', 978)\n",
      "20 (u'projecthope', 835)\n",
      "21 (u'news', 825)\n",
      "22 (u'marr', 764)\n",
      "23 (u'votein', 725)\n",
      "24 (u'referendum', 706)\n",
      "25 (u'catsagainstbrexit', 701)\n",
      "26 (u'bremain', 679)\n",
      "27 (u'ukip', 638)\n",
      "28 (u'jocoxmp', 568)\n",
      "29 (u'bbc', 556)\n",
      "30 (u'london', 555)\n",
      "31 (u'wal', 549)\n",
      "32 (u'labour', 528)\n",
      "33 (u'greenerin', 502)\n",
      "34 (u'england', 482)\n",
      "35 (u'nhs', 456)\n",
      "36 (u'takebackcontrol', 454)\n",
      "37 (u'tomorrowspaperstoday', 432)\n",
      "38 (u'intogether', 422)\n",
      "39 (u'labourin', 415)\n",
      "40 (u'britain', 413)\n",
      "41 (u'football', 406)\n",
      "42 (u'betteroffout', 405)\n",
      "43 (u'rt', 394)\n",
      "44 (u'lexit', 390)\n",
      "45 (u'davidcameron', 379)\n",
      "46 (u'peston', 374)\n",
      "47 (u'go', 357)\n",
      "48 (u'jocox', 348)\n",
      "49 (u'europe', 342)\n",
      "50 (u'cameron', 337)\n",
      "51 (u'sky', 336)\n",
      "52 (u'immigration', 329)\n",
      "53 (u'deals', 325)\n",
      "54 (u'epl', 323)\n",
      "55 (u'vote', 311)\n",
      "56 (u'bpl', 311)\n",
      "57 (u'projectfear', 303)\n",
      "58 (u'rcn16', 303)\n",
      "59 (u'bbcpapers', 298)\n",
      "60 (u'voteout', 292)\n",
      "61 (u'nir', 286)\n",
      "62 (u'itv', 282)\n",
      "63 (u'borisjohnson', 281)\n",
      "64 (u'farage', 276)\n",
      "65 (u'in', 275)\n",
      "66 (u'remainineu', 270)\n",
      "67 (u'usa', 270)\n",
      "68 (u'r4today', 269)\n",
      "69 (u'labourleave', 268)\n",
      "70 (u'svkeng', 249)\n",
      "71 (u'independenceday', 249)\n",
      "72 (u'newsnight', 242)\n",
      "73 (u'tl', 235)\n",
      "74 (u'ebay', 235)\n",
      "75 (u'eudebate', 227)\n",
      "76 (u'out', 226)\n",
      "77 (u'iran', 224)\n",
      "78 (u'bbcdp', 223)\n",
      "79 (u'ausveng', 219)\n",
      "80 (u'ttip', 218)\n",
      "81 (u'democracy', 213)\n",
      "82 (u'beleave', 206)\n",
      "83 (u'nowplaying', 204)\n",
      "84 (u'bbcsp', 204)\n",
      "85 (u'us', 201)\n",
      "86 (u'un', 200)\n",
      "87 (u'biafra', 196)\n",
      "88 (u'usopen', 195)\n",
      "89 (u'questiontime', 194)\n",
      "90 (u'quote', 191)\n",
      "91 (u'moreincommon', 186)\n",
      "92 (u'business', 181)\n",
      "93 (u'lovelikejo', 175)\n",
      "94 (u'british', 175)\n",
      "95 (u'corbyn', 165)\n",
      "96 (u'twibbon', 165)\n",
      "97 (u'irl', 160)\n",
      "98 (u'c4news', 156)\n",
      "99 (u'voteleavetakecontrol', 154)\n",
      "[u'euref', u'brexit', u'voteleave', u'remain', u'voteremain', u'bbcdebate', u'strongerin', u'eu', u'eureferendum', u'uk', u'leave', u'bbcqt', u'euro2016', u'eng', u'leaveeu', u'c4debate', u'takecontrol', u'labourinforbritain', u'inorout', u'engslo']\n"
     ]
    }
   ],
   "source": [
    "for k,v in enumerate(pre_top20CountryMentions[:100]):\n",
    "    print k,v\n",
    "pre_top_20 = [x for [x,y] in pre_top20CountryMentions[:20]]\n",
    "print pre_top_20"
   ]
  },
  {
   "cell_type": "code",
   "execution_count": 221,
   "metadata": {
    "collapsed": false
   },
   "outputs": [
    {
     "name": "stdout",
     "output_type": "stream",
     "text": [
      "0 (u'brexit', 139974)\n",
      "1 (u'euref', 64431)\n",
      "2 (u'eurefresults', 42194)\n",
      "3 (u'keepcorbyn', 14385)\n",
      "4 (u'eu', 11861)\n",
      "5 (u'uk', 10368)\n",
      "6 (u'leave', 8908)\n",
      "7 (u'remain', 8728)\n",
      "8 (u'eureferendum', 8521)\n",
      "9 (u'euro2016', 8240)\n",
      "10 (u'corbyn', 6575)\n",
      "11 (u'indyref2', 5633)\n",
      "12 (u'engice', 4984)\n",
      "13 (u'voteleave', 4839)\n",
      "14 (u'eng', 4700)\n",
      "15 (u'labourcoup', 3400)\n",
      "16 (u'borisjohnson', 2765)\n",
      "17 (u'notmyvote', 2742)\n",
      "18 (u'toryleadership', 2548)\n",
      "19 (u'labour', 2506)\n",
      "20 (u'news', 2479)\n",
      "21 (u'brexitvote', 2472)\n",
      "22 (u'farage', 2311)\n",
      "23 (u'pmqs', 2155)\n",
      "24 (u'ukip', 2146)\n",
      "25 (u'voteremain', 2110)\n",
      "26 (u'referendum', 2022)\n",
      "27 (u'london', 1877)\n",
      "28 (u'marchforeurope', 1855)\n",
      "29 (u'marr', 1849)\n",
      "30 (u'scotland', 1830)\n",
      "31 (u'engisl', 1774)\n",
      "32 (u'corbynout', 1735)\n",
      "33 (u'isl', 1632)\n",
      "34 (u'england', 1622)\n",
      "35 (u'corbynstays', 1585)\n",
      "36 (u'whathavewedone', 1540)\n",
      "37 (u'bbcqt', 1456)\n",
      "38 (u'nhs', 1450)\n",
      "39 (u'cameron', 1412)\n",
      "40 (u'strongerin', 1339)\n",
      "41 (u'iran', 1238)\n",
      "42 (u'newsnight', 1216)\n",
      "43 (u'breaking', 1044)\n",
      "44 (u'europe', 1018)\n",
      "45 (u'bbc', 998)\n",
      "46 (u'football', 974)\n",
      "47 (u'independenceday', 934)\n",
      "48 (u'corbyn4all', 921)\n",
      "49 (u'notinmyname', 867)\n",
      "50 (u'wal', 859)\n",
      "51 (u'britain', 844)\n",
      "52 (u'leaveeu', 840)\n",
      "53 (u'boris', 807)\n",
      "54 (u'bbcreferendum', 803)\n",
      "55 (u'epl', 793)\n",
      "56 (u'postrefracism', 776)\n",
      "57 (u'londonstays', 774)\n",
      "58 (u'ivoted', 772)\n",
      "59 (u'lies', 767)\n",
      "60 (u'bpl', 766)\n",
      "61 (u'davidcameron', 749)\n",
      "62 (u'nigelfarage', 749)\n",
      "63 (u'jeremycorbyn', 741)\n",
      "64 (u'bregret', 736)\n",
      "65 (u'deals', 731)\n",
      "66 (u'iceland', 700)\n",
      "67 (u'politics', 698)\n",
      "68 (u'trump', 696)\n",
      "69 (u'regrexit', 683)\n",
      "70 (u'usa', 664)\n",
      "71 (u'indyref', 653)\n",
      "72 (u'moreincommon', 651)\n",
      "73 (u'somme100', 641)\n",
      "74 (u'r4today', 619)\n",
      "75 (u'wearethe48', 616)\n",
      "76 (u'eurefresult', 613)\n",
      "77 (u'gove', 608)\n",
      "78 (u'twickenham', 607)\n",
      "79 (u'chickencoup', 604)\n",
      "80 (u'biafrexit', 594)\n",
      "81 (u'walbel', 583)\n",
      "82 (u'chilcot', 583)\n",
      "83 (u'imwithcorbyn', 572)\n",
      "84 (u'ebay', 564)\n",
      "85 (u'wales', 554)\n",
      "86 (u'tl', 554)\n",
      "87 (u'rt', 551)\n",
      "88 (u'democracy', 540)\n",
      "89 (u'snp', 538)\n",
      "90 (u'business', 534)\n",
      "91 (u'brexitin5words', 533)\n",
      "92 (u'deselectthem', 532)\n",
      "93 (u'bremain', 511)\n",
      "94 (u'theresamay', 493)\n",
      "95 (u'tomorrowspaperstoday', 480)\n",
      "96 (u'c4news', 462)\n",
      "97 (u'votein', 458)\n",
      "98 (u'article50', 456)\n",
      "99 (u'leadsom4leader', 455)\n",
      "[u'brexit', u'euref', u'eurefresults', u'keepcorbyn', u'eu', u'uk', u'leave', u'remain', u'eureferendum', u'euro2016', u'corbyn', u'indyref2', u'engice', u'voteleave', u'eng', u'labourcoup', u'borisjohnson', u'notmyvote', u'toryleadership', u'labour']\n"
     ]
    }
   ],
   "source": [
    "for k,v in enumerate(post_top20CountryMentions[:100]):\n",
    "    print k,v\n",
    "post_top_20 = [x for [x,y] in post_top20CountryMentions[:20]]\n",
    "print post_top_20"
   ]
  },
  {
   "cell_type": "code",
   "execution_count": 196,
   "metadata": {
    "collapsed": false
   },
   "outputs": [
    {
     "name": "stdout",
     "output_type": "stream",
     "text": [
      "set([u'voteleave', u'euro2016', u'brexit', u'euref', u'eureferendum', u'eng', u'leave', u'remain', u'uk', u'eu'])\n",
      "set([u'voteleave', u'euro2016', u'brexit', u'euref', u'eureferendum', u'strongerin', u'voteremain', u'leave', u'remain', u'takecontrol', u'inorout'])\n"
     ]
    }
   ],
   "source": [
    "top20intersect = set(pre_top_20).intersection(set(post_top_20))\n",
    "print top20intersect\n",
    "top20intersect.add(u'voteremain')\n",
    "top20intersect.add(u'strongerin')\n",
    "top20intersect.add(u'takecontrol')\n",
    "top20intersect.add(u'inorout')\n",
    "top20intersect.remove(u'eng')\n",
    "top20intersect.remove(u'eu')\n",
    "top20intersect.remove(u'uk')\n",
    "print top20intersect\n",
    "\n",
    "partial_ht = [u'voteleave', u'voteremain', u'leave', u'remain']"
   ]
  },
  {
   "cell_type": "code",
   "execution_count": 209,
   "metadata": {
    "collapsed": false
   },
   "outputs": [
    {
     "name": "stdout",
     "output_type": "stream",
     "text": [
      "[20160618, 20160619, 20160620, 20160621, 20160622]\n",
      "[('borisjohnson', 20), ('cameron', 100), ('corbyn', 55), ('farage', 74), ('jocox', 51), ('marr', 708), ('peston', 366)]\n",
      "[('borisjohnson', 23), ('cameron', 69), ('corbyn', 59), ('farage', 86), ('jocox', 63), ('marr', 33), ('peston', 4)]\n",
      "[20160624, 20160625, 20160626, 20160627, 20160628, 20160629, 20160630, 20160701, 20160702, 20160703, 20160704]\n",
      "[('borisjohnson', 344), ('cameron', 707), ('corbyn', 705), ('farage', 393), ('jocox', 57), ('marr', 2), ('peston', 3)]\n",
      "[('borisjohnson', 109), ('cameron', 108), ('corbyn', 779), ('farage', 94), ('jocox', 10), ('marr', 5)]\n"
     ]
    }
   ],
   "source": [
    "def mentionsPerDay(dailyTweetsDict, tweetIndex, mentions):\n",
    "    # order chrono\n",
    "    sortedDailyTweetsDict = sorted(x for x,k in dailyTweetsDict.iteritems() if len(k)>20000)\n",
    "    #print sortedDailyTweetsDict\n",
    "    \n",
    "    dailyMentions = dict() \n",
    "    for day, tweetList in dailyTweetsDict.iteritems():\n",
    "        mentionsList = list()\n",
    "        if day in sortedDailyTweetsDict:\n",
    "            for tweet_id in tweetList:\n",
    "                tweetText = tweetIndex[tweet_id][\"text\"].lower()  #string\n",
    "                hashtagList = tweetIndex[tweet_id][\"ht\"]  #string\n",
    "                for mention in mentions:\n",
    "                    if mention in hashtagList:\n",
    "                        mentionsList.append(mention)\n",
    "            topMentions = Counter(mentionsList).most_common()\n",
    "            #print topMentions\n",
    "            orderedTopMentions = sorted(topMentions, key=lambda tup: tup[0])\n",
    "            #print orderedTopMentions\n",
    "            dailyMentions[day] = orderedTopMentions\n",
    "            \n",
    "    # orderd date keys chronologically\n",
    "    sortedDailyMentions = OrderedDict(sorted(dailyMentions.items(), key=lambda t: t[0]))\n",
    "    return sortedDailyMentions\n",
    "\n",
    "# #### top hashtags pre and post\n",
    "# pre_dailyMentionDict = mentionsPerDay(pre_dailyTweetsDict, pre_tweetIndex, top20intersect)\n",
    "# print pre_dailyMentionDict.keys()\n",
    "# print pre_dailyMentionDict[20160619]\n",
    "# print pre_dailyMentionDict[20160620]\n",
    "\n",
    "\n",
    "# post_dailyMentionDict = mentionsPerDay(post_dailyTweetsDict, post_tweetIndex, top20intersect)\n",
    "# print post_dailyMentionDict.keys()\n",
    "# print post_dailyMentionDict[20160624]\n",
    "# print post_dailyMentionDict[20160629]\n",
    "\n",
    "# #### top parties pre and post\n",
    "\n",
    "# pre_dailyMentionDict = mentionsPerDay(pre_dailyTweetsDict, pre_tweetIndex, parties)\n",
    "# print pre_dailyMentionDict.keys()\n",
    "# print pre_dailyMentionDict[20160619]\n",
    "# print pre_dailyMentionDict[20160620]\n",
    "\n",
    "\n",
    "# post_dailyMentionDict = mentionsPerDay(post_dailyTweetsDict, post_tweetIndex, parties)\n",
    "# print post_dailyMentionDict.keys()\n",
    "# print post_dailyMentionDict[20160624]\n",
    "# print post_dailyMentionDict[20160629]\n",
    "\n",
    "### top politicians pre and post: politician_ht or politicians\n",
    "\n",
    "pre_dailyMentionDict = mentionsPerDay(pre_dailyTweetsDict, pre_tweetIndex, politician_ht)\n",
    "print pre_dailyMentionDict.keys()\n",
    "print pre_dailyMentionDict[20160619]\n",
    "print pre_dailyMentionDict[20160620]\n",
    "\n",
    "\n",
    "post_dailyMentionDict = mentionsPerDay(post_dailyTweetsDict, post_tweetIndex, politician_ht)\n",
    "print post_dailyMentionDict.keys()\n",
    "print post_dailyMentionDict[20160624]\n",
    "print post_dailyMentionDict[20160629]\n"
   ]
  },
  {
   "cell_type": "code",
   "execution_count": 218,
   "metadata": {
    "collapsed": false
   },
   "outputs": [],
   "source": [
    "#### line plots\n",
    "def plotLines(dailyMentionDict, variables, plotname):\n",
    "    \n",
    "    # http://www.randalolson.com/2014/06/28/how-to-make-beautiful-data-visualizations-in-python-with-matplotlib/\n",
    "    # Now that the plot is prepared, it's time to actually plot the data!    \n",
    "    # Note that I plotted the majors in order of the highest % in the final year.    \n",
    "#     majors = ['Syria', 'Iran', 'United Kingdom', 'Iraq',    \n",
    "#               'Germany', 'Hungary', 'Israel',    \n",
    "#               'Ivory Coast', 'Russia', 'Nigeria',    \n",
    "#               'Turkey', 'Yemen', 'India',    \n",
    "#               'France', 'Greece', 'Libya',    \n",
    "#               'Austria', 'Italy', 'China', 'Lebanon'] \n",
    "\n",
    "#     majors = [\"Croatia\", \"Hungary\", \"Austria\", \"Germany\", \"Serbia\", \"Macedonia\", \"Greece\", \"United Kingdom\"]\n",
    "    \n",
    "    majors_alpha = sorted(variables) # 20 countries\n",
    "    ind = range(len(majors_alpha)) # 0:19\n",
    "    days = dailyMentionDict.keys() # 0:29\n",
    "\n",
    "  \n",
    "    # These are the \"Tableau 20\" colors as RGB.    \n",
    "    tableau20 = [(31, 119, 180), (174, 199, 232), (255, 127, 14), (255, 187, 120),    \n",
    "                 (44, 160, 44), (152, 223, 138), (214, 39, 40), (255, 152, 150),    \n",
    "                 (148, 103, 189), (197, 176, 213), (140, 86, 75), (196, 156, 148),    \n",
    "                 (227, 119, 194), (247, 182, 210), (127, 127, 127), (199, 199, 199),    \n",
    "                 (188, 189, 34), (219, 219, 141), (23, 190, 207), (158, 218, 229)]    \n",
    "\n",
    "    # Scale the RGB values to the [0, 1] range, which is the format matplotlib accepts.    \n",
    "    for i in range(len(tableau20)):    \n",
    "        r, g, b = tableau20[i]    \n",
    "        tableau20[i] = (r / 255., g / 255., b / 255.)    \n",
    "\n",
    "    # You typically want your plot to be ~1.33x wider than tall. This plot is a rare    \n",
    "    # exception because of the number of lines being plotted on it.    \n",
    "    # Common sizes: (10, 7.5) and (12, 9)    \n",
    "    country_lines = plt.figure()#figsize=(12, 14))    \n",
    "\n",
    "    # Remove the plot frame lines. They are unnecessary chartjunk.    \n",
    "    ax = plt.subplot(111)    \n",
    "    ax.spines[\"top\"].set_visible(False)    \n",
    "    ax.spines[\"bottom\"].set_visible(False)    \n",
    "    ax.spines[\"right\"].set_visible(False)    \n",
    "    ax.spines[\"left\"].set_visible(False)    \n",
    "\n",
    "    # Ensure that the axis ticks only show up on the bottom and left of the plot.    \n",
    "    # Ticks on the right and top of the plot are generally unnecessary chartjunk.    \n",
    "    ax.get_xaxis().tick_bottom()    \n",
    "    ax.get_yaxis().tick_left()    \n",
    "\n",
    "#     Limit the range of the plot to only where the data is.    \n",
    "#     Avoid unnecessary whitespace.    \n",
    "    plt.ylim(10, 1000)    \n",
    "#     plt.xlim(-1, 6)    \n",
    "\n",
    "    # Make sure your axis ticks are large enough to be easily read.    \n",
    "    # You don't want your viewers squinting to read your plot.    \n",
    "#     plt.yticks(range(0, 13000, 1000), [str(x) for x in range(0, 13000, 1000)], fontsize=10)  \n",
    "    new_days = [str(x)[4:6]+\"-\"+str(x)[6:] for x in days]\n",
    "    plt.xticks(range(30), new_days, fontsize=10, rotation=90)\n",
    "    \n",
    "    ### devo iterare il dizionario in modo verticale\n",
    "    for rank, mention in enumerate(variables):           \n",
    "        mentionValues = list()\n",
    "        for day in days:\n",
    "            mentionsFreq = {x : y for [x, y] in dailyMentionDict[day]}\n",
    "            mentionValues.append(0 if mention not in mentionsFreq else mentionsFreq[mention])\n",
    "        \n",
    "        data = np.array(mentionValues)\n",
    "        print data\n",
    "\n",
    "        plt.plot(range(len(data)), data,lw=2.5, color=tableau20[rank], label = \" \".join([x.capitalize() for x in mention.split()]))  \n",
    "        \n",
    "#     plt.legend(loc='upper left')\n",
    "    plt.legend(loc='upper center', bbox_to_anchor=(0.5, 1.0),\n",
    "          ncol=3, fancybox=True, shadow=True)\n",
    "    plt.ylabel(\"Number of tweets\")\n",
    "    plt.savefig(plotname)\n",
    "    plt.show()"
   ]
  },
  {
   "cell_type": "code",
   "execution_count": 219,
   "metadata": {
    "collapsed": false
   },
   "outputs": [
    {
     "name": "stdout",
     "output_type": "stream",
     "text": [
      "[ 10 708  33  10   3]\n",
      "[116  51  63  35  83]\n",
      "[ 39 100  69  60  68]\n",
      "[  1 366   4   3   0]\n",
      "[35 74 86 35 46]\n",
      "[  9  20  23  81 148]\n",
      "[13 55 59 19 19]\n"
     ]
    },
    {
     "data": {
      "image/png": "[encoded data removed]",
      "text/plain": [
       "<matplotlib.figure.Figure at 0x7f9fd7474810>"
      ]
     },
     "metadata": {},
     "output_type": "display_data"
    }
   ],
   "source": [
    "plotLines(pre_dailyMentionDict, politician_ht, \"/home/muntean/brexit-enriched/plots/politician_ht_mentions_pre.pdf\")"
   ]
  },
  {
   "cell_type": "markdown",
   "metadata": {},
   "source": [
    "## mentions and sentiments"
   ]
  },
  {
   "cell_type": "code",
   "execution_count": null,
   "metadata": {
    "collapsed": false
   },
   "outputs": [],
   "source": [
    "mentionSentiIndex = stats_enriched_tweets.buildCountrySentiIndexMention(filename)"
   ]
  },
  {
   "cell_type": "code",
   "execution_count": null,
   "metadata": {
    "collapsed": false
   },
   "outputs": [],
   "source": [
    "def plotCountrySentimentPerDay(dailySentiDict, countryName, days): #, generic_title):\n",
    "    labels = list()\n",
    "    against = list()\n",
    "    pro = list()\n",
    "\n",
    "    dailySentiDictSorted = sorted(dailySentiDict.iteritems(), key=lambda x: x[0])  # order by date\n",
    "    for record in dailySentiDictSorted:\n",
    "        day = record[0]\n",
    "        if day in days:\n",
    "            sentiList = record[1]\n",
    "            labels.append(day)\n",
    "            count_pro = sentiList.count(1)\n",
    "            pro.append(count_pro)\n",
    "            count_anti = sentiList.count(0)\n",
    "            against.append(count_anti)\n",
    "    new_labels = [str(x)[4:6]+\"-\"+str(x)[6:] for x in labels]\n",
    "    plotBarWithLables2Distrib(against, pro, new_labels, countryName.capitalize() + \"_sentiment_per_Day\", rot=90)\n",
    "\n",
    "days = dailyMentionDict.keys()   \n",
    "print len(days)\n",
    "# plotCountrySentimentPerDay(mentionSentiIndex[\"syria\"], \"syria\", days)\n",
    "# plotCountrySentimentPerDay(mentionSentiIndex[\"france\"], \"france\", days)\n",
    "# plotCountrySentimentPerDay(mentionSentiIndex[\"germany\"], \"germany\", days)\n",
    "plotCountrySentimentPerDay(mentionSentiIndex[\"austria\"], \"austria\", days)\n",
    "# plotCountrySentimentPerDay(mentionSentiIndex[\"united kingdom\"], \"united kingdom\", days)\n",
    "# plotCountrySentimentPerDay(mentionSentiIndex[\"nigeria\"], \"nigeria\", days)\n",
    "# #http://www.voanews.com/media/photogallery/europe-migrant-crisis-september-16-2015/2966005.html\n",
    "# #08.09:http://www.theguardian.com/world/video/2015/sep/08/journalist-appears-to-kick-and-trip-fleeing-refugees-video\n",
    "# plotCountrySentimentPerDay(mentionSentiIndex[\"hungary\"], \"hungary\", days)\n",
    "# plotCountrySentimentPerDay(mentionSentiIndex[\"greece\"], \"greece\", days)\n",
    "# plotCountrySentimentPerDay(mentionSentiIndex[\"serbia\"], \"serbia\", days)\n",
    "# plotCountrySentimentPerDay(mentionSentiIndex[\"macedonia\"], \"macedonia\", days)\n",
    "# plotCountrySentimentPerDay(mentionSentiIndex[\"croatia\"], \"croatia\", days)\n",
    "# plotCountrySentimentPerDay(mentionSentiIndex[\"turkey\"], \"turkey\", days)"
   ]
  },
  {
   "cell_type": "markdown",
   "metadata": {},
   "source": [
    "## location mentions and uniq user sentiment\n"
   ]
  },
  {
   "cell_type": "code",
   "execution_count": null,
   "metadata": {
    "collapsed": false
   },
   "outputs": [],
   "source": [
    "mixedMentionUser = stats_enriched_tweets.buildMixCountryMentionUserSenti(filename)"
   ]
  },
  {
   "cell_type": "code",
   "execution_count": null,
   "metadata": {
    "collapsed": false
   },
   "outputs": [],
   "source": [
    "plotCountrySentimentPerDay(mixedMentionUser[\"france\"], \"france\", days, \" mention and user sentiment per day\")\n",
    "plotCountrySentimentPerDay(mentionSentiIndex[\"france\"], \"france\", days, \" mention and tweet sentiment per day\")"
   ]
  },
  {
   "cell_type": "code",
   "execution_count": null,
   "metadata": {
    "collapsed": false
   },
   "outputs": [],
   "source": [
    "print mixedMentionUser[\"germany\"][20150917].count(0)\n",
    "print mentionSentiIndex[\"germany\"][20150917].count(0)"
   ]
  },
  {
   "cell_type": "code",
   "execution_count": null,
   "metadata": {
    "collapsed": false
   },
   "outputs": [],
   "source": [
    "print mixedMentionUser[\"germany\"][20150917].count(1)\n",
    "print mentionSentiIndex[\"germany\"][20150917].count(1)"
   ]
  },
  {
   "cell_type": "code",
   "execution_count": null,
   "metadata": {
    "collapsed": true
   },
   "outputs": [],
   "source": []
  }
 ],
 "metadata": {
  "anaconda-cloud": {},
  "kernelspec": {
   "display_name": "Python [default]",
   "language": "python",
   "name": "python2"
  },
  "language_info": {
   "codemirror_mode": {
    "name": "ipython",
    "version": 2
   },
   "file_extension": ".py",
   "mimetype": "text/x-python",
   "name": "python",
   "nbconvert_exporter": "python",
   "pygments_lexer": "ipython2",
   "version": "2.7.12"
  }
 },
 "nbformat": 4,
 "nbformat_minor": 0
}
