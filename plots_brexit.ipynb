{
 "cells": [
  {
   "cell_type": "code",
   "execution_count": null,
   "metadata": {
    "collapsed": false
   },
   "outputs": [],
   "source": [
    "%matplotlib inline"
   ]
  },
  {
   "cell_type": "code",
   "execution_count": null,
   "metadata": {
    "collapsed": false
   },
   "outputs": [],
   "source": [
    "import stats_enriched_tweets\n",
    "from collections import defaultdict\n",
    "import matplotlib\n",
    "import matplotlib.pyplot as plt\n",
    "from matplotlib.ticker import ScalarFormatter, FormatStrFormatter\n",
    "from mpltools import style\n",
    "import numpy as np\n",
    "from collections import Counter, OrderedDict\n",
    "import pandas as pd\n",
    "import plotly.plotly as py\n",
    "\n",
    "filename_pre = \"/Users/cris/all-brexit-with-sent_pre-lines.json\"\n",
    "filename_post = \"/Users/cris/all-brexit-with-sent_post-lines.json\""
   ]
  },
  {
   "cell_type": "code",
   "execution_count": null,
   "metadata": {
    "collapsed": true
   },
   "outputs": [],
   "source": [
    "def tweetIter(inputfile):\n",
    "    \"\"\"\n",
    "    Iterates a JSON file containing enriches tweets\n",
    "    :param inputfile: the file to iterate over\n",
    "    :return:\n",
    "    \"\"\"\n",
    "    for line in codecs.open(inputfile, \"r\", \"utf-8\"):\n",
    "        try:\n",
    "            tweet = json.loads(line)\n",
    "        except:\n",
    "            print \"Couldn't parse tweet: \", line[:200]\n",
    "        yield tweet"
   ]
  },
  {
   "cell_type": "markdown",
   "metadata": {},
   "source": [
    "# build all dicts while reading"
   ]
  },
  {
   "cell_type": "code",
   "execution_count": null,
   "metadata": {
    "collapsed": false
   },
   "outputs": [],
   "source": [
    "# 1. PRE and POST\n",
    "# Given a file (PRE or POST): \n",
    "#    - we need daily volumes \n",
    "#    - we need country volumes\n",
    "\n",
    "\n",
    "\n",
    "pre_tweetIndex = stats_enriched_tweets.createTweetIndex(filename_pre)\n",
    "print len(pre_tweetIndex)\n",
    "\n",
    "post_tweetIndex = stats_enriched_tweets.createTweetIndex(filename_post)\n",
    "print len(post_tweetIndex)"
   ]
  },
  {
   "cell_type": "code",
   "execution_count": null,
   "metadata": {
    "collapsed": false
   },
   "outputs": [],
   "source": [
    "# 2. masks over tweet index pre\n",
    "print \"PRE brexit\"\n",
    "pre_dailyTweetsDict = stats_enriched_tweets.createDailyTweetsMask(pre_tweetIndex)\n",
    "print \"Daily tweets - volumes:\", len(pre_dailyTweetsDict)\n",
    "pre_userCountryTweetsDict = stats_enriched_tweets.createUserCountryTweetsMask(pre_tweetIndex)\n",
    "print \"User country tweets - volumes - EU:\", len(pre_userCountryTweetsDict)\n"
   ]
  },
  {
   "cell_type": "code",
   "execution_count": null,
   "metadata": {
    "collapsed": false
   },
   "outputs": [],
   "source": [
    "for k,v in pre_dailyTweetsDict.iteritems():\n",
    "    print k, len(v)"
   ]
  },
  {
   "cell_type": "code",
   "execution_count": null,
   "metadata": {
    "collapsed": false,
    "scrolled": true
   },
   "outputs": [],
   "source": [
    "for k,v in pre_userCountryTweetsDict.iteritems():\n",
    "    print k, len(v)"
   ]
  },
  {
   "cell_type": "code",
   "execution_count": null,
   "metadata": {
    "collapsed": false
   },
   "outputs": [],
   "source": [
    "# 2. masks over tweet index post\n",
    "print \"POST brexit\"\n",
    "post_dailyTweetsDict = stats_enriched_tweets.createDailyTweetsMask(post_tweetIndex)\n",
    "print \"Daily tweets - volumes:\", len(post_dailyTweetsDict)"
   ]
  },
  {
   "cell_type": "code",
   "execution_count": null,
   "metadata": {
    "collapsed": true
   },
   "outputs": [],
   "source": [
    "post_userCountryTweetsDict = stats_enriched_tweets.createUserCountryTweetsMask(post_tweetIndex)\n",
    "print \"User country tweets - volumes - EU:\", len(post_userCountryTweetsDict)"
   ]
  },
  {
   "cell_type": "markdown",
   "metadata": {},
   "source": [
    "# plot types"
   ]
  },
  {
   "cell_type": "code",
   "execution_count": null,
   "metadata": {
    "collapsed": true
   },
   "outputs": [],
   "source": [
    "def plotBarWithLables(distrib, labels, title, rot=0):\n",
    "    style.use('ggplot')\n",
    "    plt.figure()\n",
    "    ind = np.arange(len(distrib))\n",
    "    plt.bar(ind, distrib, width = 0.75, align='center', color='k', log=True)\n",
    "    plt.xticks(ind, labels, rotation=rot, fontsize = 10)\n",
    "    plt.title(title, fontsize = 10)\n",
    "    plt.ylabel('Number of tweets', fontsize = 10)\n",
    "    plt.tight_layout()\n",
    "    plt.xlim(xmin=-1)\n",
    "#     plt.ylim(ymax=75000)\n",
    "    plt.savefig(\"/Users/cris/brexit/plots/\" + title.replace(\" \",\"_\") + \".pdf\")\n",
    "    plt.show()"
   ]
  },
  {
   "cell_type": "code",
   "execution_count": null,
   "metadata": {
    "collapsed": true
   },
   "outputs": [],
   "source": [
    "def plotBarWithLables2Distrib(a,b, labels, title, rot=0):\n",
    "\n",
    "    #style.use('ggplot')\n",
    "    ind = np.arange(len(a))  # the x locations for the groups\n",
    "    width = 0.35  # the width of the bars\n",
    "\n",
    "    fig, ax = plt.subplots()\n",
    "    rects1 = ax.bar(ind, a, width, color='k')\n",
    "    rects2 = ax.bar(ind + width, b, width, color='w', edgecolor='k')\n",
    "\n",
    "    # add some text for labels, title and axes ticks\n",
    "    ax.set_ylabel('Number of tweets')\n",
    "#     ax.set_title(title)\n",
    "    ax.set_xticks(ind + width)\n",
    "    \n",
    "    ax.set_xticklabels(labels)\n",
    "\n",
    "    plt.setp(ax.get_xticklabels(), rotation=90, horizontalalignment='right')\n",
    "\n",
    "    ax.legend((rects1[0], rects2[0]), ('Leave', 'Remain'), loc='upper left')\n",
    "    \n",
    "#     def autolabel(rects):\n",
    "#         # attach some text labels\n",
    "#         for rect in rects:\n",
    "#             height = rect.get_height()\n",
    "#             ax.text(rect.get_x() + rect.get_width() / 2., 1.05 * height,\n",
    "#                     '%d' % int(height),\n",
    "#                     ha='center', va='bottom')\n",
    "    \n",
    "#     autolabel(rects1)\n",
    "#     autolabel(rects2)\n",
    "\n",
    "#     plt.tight_layout()\n",
    "    plt.savefig(\"/Users/cris/brexit/plots/\"+ title.replace(\" \",\"_\") + \".pdf\")\n",
    "    plt.show()"
   ]
  },
  {
   "cell_type": "markdown",
   "metadata": {},
   "source": [
    "# plots literally"
   ]
  },
  {
   "cell_type": "markdown",
   "metadata": {},
   "source": [
    "#### tweets per day"
   ]
  },
  {
   "cell_type": "code",
   "execution_count": null,
   "metadata": {
    "collapsed": false
   },
   "outputs": [],
   "source": [
    "def plotTweetsPerDay(tweetsPerDayDict):\n",
    "    tweetsPerDay = [[len(y), x] for x, y in tweetsPerDayDict.items() if x is not None and len(y)>20000]\n",
    "    #print tweetsPerDay\n",
    "    tweetsPerDay.sort(key = lambda row: row[1])\n",
    "    #print tweetsPerDay\n",
    "    print \"Tweets per day\", len(tweetsPerDay)\n",
    "    values = list(zip(*tweetsPerDay)[0])\n",
    "    #print values\n",
    "    labels = list(zip(*tweetsPerDay)[1])\n",
    "    new_labels = [str(x)[4:6]+\"-\"+str(x)[6:] for x in labels]\n",
    "    print new_labels\n",
    "    #print labels\n",
    "    plotBarWithLables(values, new_labels, \"Number of tweets per day\", rot=90)"
   ]
  },
  {
   "cell_type": "code",
   "execution_count": null,
   "metadata": {
    "collapsed": true
   },
   "outputs": [],
   "source": [
    "def plotTweetsPerDay(tweetsPerDayDict1, tweetsPerDayDict2):\n",
    "    tweetsPerDay1 = [[len(y), x] for x, y in tweetsPerDayDict1.items() if x is not None and len(y)>20000]\n",
    "    tweetsPerDay2 = [[len(y), x] for x, y in tweetsPerDayDict2.items() if x is not None and len(y)>20000]\n",
    "    print tweetsPerDay1\n",
    "    print tweetsPerDay2\n",
    "    \n",
    "    tweetsPerDay = tweetsPerDay1 + [[23677, 20160623]] + tweetsPerDay2\n",
    "    print tweetsPerDay\n",
    "    \n",
    "    tweetsPerDay.sort(key = lambda row: row[1])\n",
    "    #print tweetsPerDay\n",
    "    print \"Tweets per day\", len(tweetsPerDay)\n",
    "    \n",
    "    values = list(zip(*tweetsPerDay)[0])\n",
    "    #print values\n",
    "    labels = list(zip(*tweetsPerDay)[1])\n",
    "    new_labels = [str(x)[4:6]+\"-\"+str(x)[6:] for x in labels]\n",
    "    print new_labels\n",
    "    #print labels\n",
    "    plotBarWithLables(values, new_labels, \"Number of tweets per day\", rot=90)"
   ]
  },
  {
   "cell_type": "code",
   "execution_count": null,
   "metadata": {
    "collapsed": false
   },
   "outputs": [],
   "source": [
    "plotTweetsPerDay(pre_dailyTweetsDict, pre_dailyTweetsDict)"
   ]
  },
  {
   "cell_type": "markdown",
   "metadata": {},
   "source": [
    "#### tweets per country"
   ]
  },
  {
   "cell_type": "code",
   "execution_count": null,
   "metadata": {
    "collapsed": true
   },
   "outputs": [],
   "source": [
    "def plotTweetsPerCountry(tweetsPerCountryDict):\n",
    "    \"\"\"\n",
    "\n",
    "    :param tweetsPerCountry: is a dictionary of key=country and values=list of tweets ids\n",
    "    :return:\n",
    "    \"\"\"\n",
    "    tweetsPerCountry = [[len(y), x] for x, y in tweetsPerCountryDict.items() if x is not None]\n",
    "    tweetsPerCountry.sort(key = lambda row: row[0], reverse=True)\n",
    "    values = list(zip(*tweetsPerCountry)[0])\n",
    "#     cummulative_values = np.cumsum(values)\n",
    "    labels = list(zip(*tweetsPerCountry)[1])\n",
    "    plotBarWithLables(values[:20], labels[:20], \"Number of tweets per country\", rot=90)\n",
    "#     plotBarWithLablesNew(cummulative_values[:20], labels[:20], \"Cummulative number of tweets per country\", rot=90)\n",
    "#     print cummulative_values\n",
    "#     print \"GB\", float(values[0])/cummulative_values[-1]\n",
    "#     print \"FR\", float(values[1])/cummulative_values[-1]\n",
    "#     print \"DE\", float(values[2])/cummulative_values[-1]"
   ]
  },
  {
   "cell_type": "code",
   "execution_count": null,
   "metadata": {
    "collapsed": true
   },
   "outputs": [],
   "source": [
    "def plotTweetsPerCountryPrePost(pre_tweetsPerCountryDict, post_tweetsPerCountryDict):\n",
    "    \n",
    "    pre_tweetsPerCountry = [[len(y), x] for x, y in pre_tweetsPerCountryDict.items() if x is not None]\n",
    "    post_tweetsPerCountry = [[len(y), x] for x, y in post_tweetsPerCountryDict.items() if x is not None]\n",
    "    \n",
    "    #sum countries\n",
    "    countryDict = dict()\n",
    "    for freq,country in post_tweetsPerCountry:\n",
    "        countryDict[country] = freq + len(pre_tweetsPerCountry[country])\n",
    "        \n",
    "    countryDictSorted = sorted(countryDict.iteritems(), key=lambda x: x[1])  # order by frequency\n",
    "    print countryDictSorted\n",
    "    \n",
    "    labels = list()\n",
    "    against = list()\n",
    "    pro = list()\n",
    "\n",
    "    for record in countryDictSorted:\n",
    "        country = record[0]\n",
    "        if day in days:\n",
    "            sentiList = record[1]\n",
    "            labels.append(day)\n",
    "            count_pro = sentiList.count(1)\n",
    "            pro.append(count_pro)\n",
    "            count_anti = sentiList.count(0)\n",
    "            against.append(count_anti)\n",
    "    new_labels = [str(x)[4:6]+\"-\"+str(x)[6:] for x in labels]\n",
    "    plotBarWithLables2Distrib(against, pro, new_labels, countryName.capitalize() + \"_sentiment_per_Day\", rot=90)"
   ]
  },
  {
   "cell_type": "code",
   "execution_count": null,
   "metadata": {
    "collapsed": false
   },
   "outputs": [],
   "source": [
    "plotTweetsPerCountry(pre_userCountryTweetsDict)"
   ]
  },
  {
   "cell_type": "code",
   "execution_count": null,
   "metadata": {
    "collapsed": false
   },
   "outputs": [],
   "source": [
    "#### politician / hashtag mentions per day!!!\n",
    "politicians = [\"david cameron\", \"theresa may\", \"nigel farage\", \"boris johnson\", \"david davis\", \"joe cox\", \n",
    "               \"jeremy corbyn\", \"george osborne\", \"nicola sturgeon\"]\n",
    "hashtags = []\n",
    "def top20countryMentions(dailyTweetsDict, tweetIndex):   \n",
    "    # order chrono\n",
    "    sortedDailyTweetsDict = sorted(x for x,k in dailyTweetsDict.iteritems() if len(k)>20000)\n",
    "    # print len(sortedDailyTweetsDict)\n",
    "    \n",
    "    countryMentions = list()\n",
    "    for day, tweetList in dailyTweetsDict.iteritems():\n",
    "        if day in sortedDailyTweetsDict:\n",
    "            for tweet_id in tweetList:\n",
    "                mentions = tweetIndex[tweet_id][\"ht\"]  #list\n",
    "                for mention in mentions:\n",
    "                    countryMentions.append(mention)\n",
    "    #topCountryMentions = Counter(countryMentions).most_common(20)\n",
    "    topCountryMentions = Counter(countryMentions).most_common()\n",
    "    \n",
    "    return topCountryMentions\n",
    "         \n",
    "top20CountryMentions = top20countryMentions(pre_dailyTweetsDict, pre_tweetIndex)\n",
    "print len(top20CountryMentions)\n",
    "\n"
   ]
  },
  {
   "cell_type": "code",
   "execution_count": null,
   "metadata": {
    "collapsed": false
   },
   "outputs": [],
   "source": [
    "for k,v in enumerate(top20CountryMentions[:100]):\n",
    "    print k,v"
   ]
  },
  {
   "cell_type": "code",
   "execution_count": null,
   "metadata": {
    "collapsed": false
   },
   "outputs": [],
   "source": [
    "#### top 20 countries mentions\n",
    "def getCountryMentionsDict(dailyTweetsDict, tweetIndex):   \n",
    "    # order chrono\n",
    "    sortedDailyTweetsDict = sorted(x for x,k in dailyTweetsDict.iteritems() if len(k)>20000)\n",
    "    # print len(sortedDailyTweetsDict)\n",
    "    \n",
    "    countryMentions = list()\n",
    "    for day, tweetList in dailyTweetsDict.iteritems():\n",
    "        if day in sortedDailyTweetsDict:\n",
    "            for tweet_id in tweetList:\n",
    "                mentions = tweetIndex[tweet_id][\"text_location_mentions_c\"]  #list\n",
    "                for mention in mentions:\n",
    "                    countryMentions.append(mention)\n",
    "    #topCountryMentions = Counter(countryMentions).most_common(20)\n",
    "    mentions_grouped = Counter(countryMentions).most_common()\n",
    "    dictCountryMentions = { k:v for (k,v) in mentions_grouped }\n",
    "    \n",
    "    return dictCountryMentions\n",
    "         \n",
    "fullCountryMentions = getCountryMentionsDict(dailyTweetsDict, tweetIndex)\n",
    "print len(fullCountryMentions)"
   ]
  },
  {
   "cell_type": "code",
   "execution_count": null,
   "metadata": {
    "collapsed": false
   },
   "outputs": [],
   "source": [
    "def topcountryMentionsPerDayMODIFIED(dailyTweetsDict, tweetIndex):\n",
    "    # order chrono\n",
    "    sortedDailyTweetsDict = sorted(x for x,k in dailyTweetsDict.iteritems() if len(k)>20000)\n",
    "    #print sortedDailyTweetsDict\n",
    "    \n",
    "    dailyMentions = dict() \n",
    "    for day, tweetList in dailyTweetsDict.iteritems():\n",
    "        countryMentions = list()\n",
    "        if day in sortedDailyTweetsDict:\n",
    "            for tweet_id in tweetList:\n",
    "                mentions = tweetIndex[tweet_id][\"text_location_mentions_c\"]  #list\n",
    "                for mention in mentions:\n",
    "                    countryMentions.append(mention)\n",
    "            topMentions = Counter(countryMentions).most_common()\n",
    "            dictCountryMentions = { k:v for (k,v) in topMentions }\n",
    "            dailyMentions[day] = dictCountryMentions\n",
    "\n",
    "            \n",
    "    # orderd date keys chronologically\n",
    "    sortedDailyMentions = OrderedDict(sorted(dailyMentions.items(), key=lambda t: t[0]))\n",
    "    return sortedDailyMentions\n",
    "\n",
    "dailyMentionDict = topcountryMentionsPerDayMODIFIED(dailyTweetsDict, tweetIndex)\n",
    "print dailyMentionDict.keys()\n",
    "print len(dailyMentionDict[20150812])\n",
    "print len(dailyMentionDict[20150815])"
   ]
  },
  {
   "cell_type": "code",
   "execution_count": null,
   "metadata": {
    "collapsed": false
   },
   "outputs": [],
   "source": [
    "dailyMentionDict[20150815]"
   ]
  },
  {
   "cell_type": "code",
   "execution_count": null,
   "metadata": {
    "collapsed": false
   },
   "outputs": [],
   "source": [
    "def top20countryMentionsPerDay(dailyTweetsDict, tweetIndex, top20CountryMentions):\n",
    "    # order chrono\n",
    "    sortedDailyTweetsDict = sorted(x for x,k in dailyTweetsDict.iteritems() if len(k)>20000)\n",
    "    #print sortedDailyTweetsDict\n",
    "    \n",
    "    # getTopCountries\n",
    "    topCountries = [x for [x,y] in top20CountryMentions]\n",
    "    #print topCountries\n",
    "    \n",
    "    dailyMentions = dict() \n",
    "    for day, tweetList in dailyTweetsDict.iteritems():\n",
    "        countryMentions = list()\n",
    "        if day in sortedDailyTweetsDict:\n",
    "            for tweet_id in tweetList:\n",
    "                mentions = tweetIndex[tweet_id][\"text_location_mentions_c\"]  #list\n",
    "                for mention in mentions:\n",
    "                    if mention in topCountries:\n",
    "                        countryMentions.append(mention)\n",
    "            topMentions = Counter(countryMentions).most_common()\n",
    "            #print topMentions\n",
    "            orderedTopMentions = sorted(topMentions, key=lambda tup: tup[0])\n",
    "            #print orderedTopMentions\n",
    "            dailyMentions[day] = orderedTopMentions\n",
    "            \n",
    "    # orderd date keys chronologically\n",
    "    sortedDailyMentions = OrderedDict(sorted(dailyMentions.items(), key=lambda t: t[0]))\n",
    "    return sortedDailyMentions\n",
    "\n",
    "dailyMentionDict = top20countryMentionsPerDay(dailyTweetsDict, tweetIndex, top20CountryMentions)\n",
    "print dailyMentionDict.keys()\n",
    "print dailyMentionDict[20150812]\n",
    "print dailyMentionDict[20150815]"
   ]
  },
  {
   "cell_type": "code",
   "execution_count": null,
   "metadata": {
    "collapsed": false
   },
   "outputs": [],
   "source": [
    "#### line plots\n",
    "def plotLines(dailyMentionDict, countryMentions):  \n",
    "    # http://www.randalolson.com/2014/06/28/how-to-make-beautiful-data-visualizations-in-python-with-matplotlib/\n",
    "    # Now that the plot is prepared, it's time to actually plot the data!    \n",
    "    # Note that I plotted the majors in order of the highest % in the final year.    \n",
    "#     majors = ['Syria', 'Iran', 'United Kingdom', 'Iraq',    \n",
    "#               'Germany', 'Hungary', 'Israel',    \n",
    "#               'Ivory Coast', 'Russia', 'Nigeria',    \n",
    "#               'Turkey', 'Yemen', 'India',    \n",
    "#               'France', 'Greece', 'Libya',    \n",
    "#               'Austria', 'Italy', 'China', 'Lebanon'] \n",
    "    majors = [\"Croatia\", \"Hungary\", \"Austria\", \"Germany\", \"Serbia\", \"Macedonia\", \"Greece\", \"United Kingdom\"]\n",
    "    majors_alpha = sorted(majors) # 20 countries\n",
    "    ind = range(len(majors_alpha)) # 0:19\n",
    "    days = dailyMentionDict.keys() # 0:29\n",
    "\n",
    "  \n",
    "    # These are the \"Tableau 20\" colors as RGB.    \n",
    "    tableau20 = [(31, 119, 180), (174, 199, 232), (255, 127, 14), (255, 187, 120),    \n",
    "                 (44, 160, 44), (152, 223, 138), (214, 39, 40), (255, 152, 150),    \n",
    "                 (148, 103, 189), (197, 176, 213), (140, 86, 75), (196, 156, 148),    \n",
    "                 (227, 119, 194), (247, 182, 210), (127, 127, 127), (199, 199, 199),    \n",
    "                 (188, 189, 34), (219, 219, 141), (23, 190, 207), (158, 218, 229)]    \n",
    "\n",
    "    # Scale the RGB values to the [0, 1] range, which is the format matplotlib accepts.    \n",
    "    for i in range(len(tableau20)):    \n",
    "        r, g, b = tableau20[i]    \n",
    "        tableau20[i] = (r / 255., g / 255., b / 255.)    \n",
    "\n",
    "    # You typically want your plot to be ~1.33x wider than tall. This plot is a rare    \n",
    "    # exception because of the number of lines being plotted on it.    \n",
    "    # Common sizes: (10, 7.5) and (12, 9)    \n",
    "    country_lines = plt.figure()#figsize=(12, 14))    \n",
    "\n",
    "    # Remove the plot frame lines. They are unnecessary chartjunk.    \n",
    "    ax = plt.subplot(111)    \n",
    "    ax.spines[\"top\"].set_visible(False)    \n",
    "    ax.spines[\"bottom\"].set_visible(False)    \n",
    "    ax.spines[\"right\"].set_visible(False)    \n",
    "    ax.spines[\"left\"].set_visible(False)    \n",
    "\n",
    "    # Ensure that the axis ticks only show up on the bottom and left of the plot.    \n",
    "    # Ticks on the right and top of the plot are generally unnecessary chartjunk.    \n",
    "    ax.get_xaxis().tick_bottom()    \n",
    "    ax.get_yaxis().tick_left()    \n",
    "\n",
    "#     Limit the range of the plot to only where the data is.    \n",
    "#     Avoid unnecessary whitespace.    \n",
    "    plt.ylim(10, 1000000)    \n",
    "#     plt.xlim(-1, 35)    \n",
    "\n",
    "    # Make sure your axis ticks are large enough to be easily read.    \n",
    "    # You don't want your viewers squinting to read your plot.    \n",
    "#     plt.yticks(range(0, 13000, 1000), [str(x) for x in range(0, 13000, 1000)], fontsize=10)  \n",
    "    new_days = [str(x)[4:6]+\"-\"+str(x)[6:] for x in days]\n",
    "    plt.xticks(range(30), new_days, fontsize=10, rotation=90)     \n",
    "    \n",
    "    ### devo iterare il dizionario in modo verticale\n",
    "#     elim_countries = [\"iran\", \"ivory coast\"]\n",
    "#     keep_countries = [\"croatia\", \"hungary\", \"austria\", \"germany\", \"serbia\", \"macedonia\", \"greece\"]\n",
    "    keep_countries = [\"syria\", \"nigeria\", \"ivory coast\", \"israel\", \"turkey\", \"lybia\", \"iraq\", \"iran\"]\n",
    "    for rank, country in enumerate(keep_countries):           \n",
    "        countryValues = list()\n",
    "        for day in days:\n",
    "            countryValues.append(0 if country not in dailyMentionDict[day] else dailyMentionDict[day][country])\n",
    "        \n",
    "        #countryValues = [float(x)/N for x in countryValues]\n",
    "#         if max(countryValues)<1000: continue\n",
    "        data = np.array(countryValues)\n",
    "#         data = (data - np.mean(data))\n",
    "        if country == \"syria\":\n",
    "            data[23] = 5500\n",
    "        if country == \"macedonia\":\n",
    "            data[3] = 1\n",
    "        plt.semilogy(range(30), data,lw=2.5, color=tableau20[rank], label = \" \".join([x.capitalize() for x in country.split()]))  \n",
    "        \n",
    "#     plt.legend(loc='upper left')\n",
    "    plt.legend(loc='upper center', bbox_to_anchor=(0.5, 1.0),\n",
    "          ncol=3, fancybox=True, shadow=True)\n",
    "    plt.ylabel(\"Number of tweets\")\n",
    "    plt.savefig(\"/Users/muntean/refugees-output/plots/Top_migrant_crisis_ORIENT.pdf\")\n",
    "    plt.show()\n",
    "    \n",
    "    # Send updated figure object to Plotly, show result in notebook\n",
    "    # https://plot.ly/python/line-and-scatter-plots-tutorial/\n",
    "    # http://nbviewer.jupyter.org/github/plotly/python-user-guide/blob/master/s6_matplotlylib/s6_matplotlylib.ipynb\n",
    "    # py.iplot(country_lines, filename='plotly-lines')"
   ]
  },
  {
   "cell_type": "code",
   "execution_count": null,
   "metadata": {
    "collapsed": false
   },
   "outputs": [],
   "source": [
    "plotLines(dailyMentionDict, top20CountryMentions)"
   ]
  },
  {
   "cell_type": "markdown",
   "metadata": {},
   "source": [
    "## mentions and sentiments"
   ]
  },
  {
   "cell_type": "code",
   "execution_count": null,
   "metadata": {
    "collapsed": false
   },
   "outputs": [],
   "source": [
    "mentionSentiIndex = stats_enriched_tweets.buildCountrySentiIndexMention(filename)"
   ]
  },
  {
   "cell_type": "code",
   "execution_count": null,
   "metadata": {
    "collapsed": false
   },
   "outputs": [],
   "source": [
    "def plotCountrySentimentPerDay(dailySentiDict, countryName, days): #, generic_title):\n",
    "    labels = list()\n",
    "    against = list()\n",
    "    pro = list()\n",
    "\n",
    "    dailySentiDictSorted = sorted(dailySentiDict.iteritems(), key=lambda x: x[0])  # order by date\n",
    "    for record in dailySentiDictSorted:\n",
    "        day = record[0]\n",
    "        if day in days:\n",
    "            sentiList = record[1]\n",
    "            labels.append(day)\n",
    "            count_pro = sentiList.count(1)\n",
    "            pro.append(count_pro)\n",
    "            count_anti = sentiList.count(0)\n",
    "            against.append(count_anti)\n",
    "    new_labels = [str(x)[4:6]+\"-\"+str(x)[6:] for x in labels]\n",
    "    plotBarWithLables2Distrib(against, pro, new_labels, countryName.capitalize() + \"_sentiment_per_Day\", rot=90)\n",
    "\n",
    "days = dailyMentionDict.keys()   \n",
    "print len(days)\n",
    "# plotCountrySentimentPerDay(mentionSentiIndex[\"syria\"], \"syria\", days)\n",
    "# plotCountrySentimentPerDay(mentionSentiIndex[\"france\"], \"france\", days)\n",
    "# plotCountrySentimentPerDay(mentionSentiIndex[\"germany\"], \"germany\", days)\n",
    "plotCountrySentimentPerDay(mentionSentiIndex[\"austria\"], \"austria\", days)\n",
    "# plotCountrySentimentPerDay(mentionSentiIndex[\"united kingdom\"], \"united kingdom\", days)\n",
    "# plotCountrySentimentPerDay(mentionSentiIndex[\"nigeria\"], \"nigeria\", days)\n",
    "# #http://www.voanews.com/media/photogallery/europe-migrant-crisis-september-16-2015/2966005.html\n",
    "# #08.09:http://www.theguardian.com/world/video/2015/sep/08/journalist-appears-to-kick-and-trip-fleeing-refugees-video\n",
    "# plotCountrySentimentPerDay(mentionSentiIndex[\"hungary\"], \"hungary\", days)\n",
    "# plotCountrySentimentPerDay(mentionSentiIndex[\"greece\"], \"greece\", days)\n",
    "# plotCountrySentimentPerDay(mentionSentiIndex[\"serbia\"], \"serbia\", days)\n",
    "# plotCountrySentimentPerDay(mentionSentiIndex[\"macedonia\"], \"macedonia\", days)\n",
    "# plotCountrySentimentPerDay(mentionSentiIndex[\"croatia\"], \"croatia\", days)\n",
    "# plotCountrySentimentPerDay(mentionSentiIndex[\"turkey\"], \"turkey\", days)"
   ]
  },
  {
   "cell_type": "markdown",
   "metadata": {},
   "source": [
    "## location mentions and uniq user sentiment\n"
   ]
  },
  {
   "cell_type": "code",
   "execution_count": null,
   "metadata": {
    "collapsed": false
   },
   "outputs": [],
   "source": [
    "mixedMentionUser = stats_enriched_tweets.buildMixCountryMentionUserSenti(filename)"
   ]
  },
  {
   "cell_type": "code",
   "execution_count": null,
   "metadata": {
    "collapsed": false
   },
   "outputs": [],
   "source": [
    "plotCountrySentimentPerDay(mixedMentionUser[\"france\"], \"france\", days, \" mention and user sentiment per day\")\n",
    "plotCountrySentimentPerDay(mentionSentiIndex[\"france\"], \"france\", days, \" mention and tweet sentiment per day\")"
   ]
  },
  {
   "cell_type": "code",
   "execution_count": null,
   "metadata": {
    "collapsed": false
   },
   "outputs": [],
   "source": [
    "print mixedMentionUser[\"germany\"][20150917].count(0)\n",
    "print mentionSentiIndex[\"germany\"][20150917].count(0)"
   ]
  },
  {
   "cell_type": "code",
   "execution_count": null,
   "metadata": {
    "collapsed": false
   },
   "outputs": [],
   "source": [
    "print mixedMentionUser[\"germany\"][20150917].count(1)\n",
    "print mentionSentiIndex[\"germany\"][20150917].count(1)"
   ]
  },
  {
   "cell_type": "code",
   "execution_count": null,
   "metadata": {
    "collapsed": true
   },
   "outputs": [],
   "source": []
  }
 ],
 "metadata": {
  "kernelspec": {
   "display_name": "Python 2",
   "language": "python",
   "name": "python2"
  },
  "language_info": {
   "codemirror_mode": {
    "name": "ipython",
    "version": 2
   },
   "file_extension": ".py",
   "mimetype": "text/x-python",
   "name": "python",
   "nbconvert_exporter": "python",
   "pygments_lexer": "ipython2",
   "version": "2.7.11"
  }
 },
 "nbformat": 4,
 "nbformat_minor": 0
}
