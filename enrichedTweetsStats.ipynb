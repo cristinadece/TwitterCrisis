{
 "cells": [
  {
   "cell_type": "code",
   "execution_count": 1,
   "metadata": {
    "collapsed": false
   },
   "outputs": [],
   "source": [
    "import codecs\n",
    "import json\n",
    "import logging\n",
    "import os\n",
    "import sys\n",
    "import operator\n",
    "from collections import defaultdict\n",
    "from tokenizer import twokenize\n",
    "from twitter.Tweet import Tweet\n",
    "from util import locations, ngrams\n",
    "from processing import locationsInTweets\n",
    "import stats_enriched_tweets"
   ]
  },
  {
   "cell_type": "code",
   "execution_count": 2,
   "metadata": {
    "collapsed": false
   },
   "outputs": [
    {
     "name": "stdout",
     "output_type": "stream",
     "text": [
      "/Users/cris/Documents/workspace/TwitterCrisis\n"
     ]
    }
   ],
   "source": [
    "print os.getcwd()"
   ]
  },
  {
   "cell_type": "code",
   "execution_count": 3,
   "metadata": {
    "collapsed": true
   },
   "outputs": [],
   "source": [
    "# read enriched tweet\n",
    "def tweetIter(inputfile):\n",
    "    for line in codecs.open(inputfile, \"r\", \"utf-8\"):\n",
    "        try:\n",
    "            tweet = json.loads(line)\n",
    "        except:\n",
    "            print \"Couldn't parse tweet: \", line[:200]\n",
    "        yield tweet"
   ]
  },
  {
   "cell_type": "code",
   "execution_count": 4,
   "metadata": {
    "collapsed": false
   },
   "outputs": [],
   "source": [
    "def hasBothLocationAndMention(tweet):\n",
    "    return (tweet[\"final_location\"] or tweet[\"final_location_c\"]) and (tweet[\"text_location_mentions\"] or tweet[\"text_location_mentions_c\"])"
   ]
  },
  {
   "cell_type": "code",
   "execution_count": 7,
   "metadata": {
    "collapsed": false
   },
   "outputs": [
    {
     "name": "stdout",
     "output_type": "stream",
     "text": [
      "Tweets with User pro:  632257 Tweets with User against:  195555\n",
      "Tweets pro:  217492 Tweets against:  65934\n",
      "Final loc:  856191 Final loc country:  1307711\n",
      "Loc mention:  73325 Loc mention country:  221331\n",
      "With Loc and loc mention:  199029 199029\n",
      "1307711\n"
     ]
    }
   ],
   "source": [
    "# Read file with simplified schema\n",
    "'''\n",
    "sentiment_tweet: STRING 'pro_ref' : pro refugees, 'against_ref' : against refugees \n",
    "                    (the tweet contains polarized hashtags)\n",
    "sentiment_user: BOOLEAN  1 : pro refugees, 0 : against refugees \n",
    "                    (the user is polarized by analyzing the tweets he/she wrote so far)\n",
    "'''\n",
    "\n",
    "\n",
    "#inputFilename = \"/Users/cris/all-brexit.json\"\n",
    "inputFilename = \"/Users/cris/all-brexit-with-sent-lines.json\"\n",
    "tweetsAsDict = tweetIter(inputFilename)\n",
    "\n",
    "# user sentiment count\n",
    "countUserPro = 0 \n",
    "countUserAgainst = 0\n",
    "\n",
    "# tweet sentiment count\n",
    "countTweetPro = 0\n",
    "countTweetAgainst = 0\n",
    "\n",
    "# user location - from final\n",
    "userLocDict = defaultdict(int)\n",
    "userLocCountryDict = defaultdict(int)\n",
    "countFinalLoc = 0\n",
    "countFinalLocCountry = 0\n",
    "\n",
    "# location mention\n",
    "locationMention = defaultdict(int)\n",
    "locationCountryMention = defaultdict(int)\n",
    "countLocMention = 0\n",
    "countLocMention_c = 0\n",
    "\n",
    "# both location and location mention\n",
    "countBoth = 0\n",
    "countBoth2 = 0\n",
    "\n",
    "\n",
    "i = 0\n",
    "for tweet in tweetsAsDict:\n",
    "    i+=1\n",
    "    \n",
    "    if \"sentiment_user\" in tweet:\n",
    "        if tweet[\"sentiment_user\"] == 1:\n",
    "            countUserPro += 1\n",
    "        else:\n",
    "            countUserAgainst += 1\n",
    "            \n",
    "            \n",
    "    if \"sentiment_tweet\" in tweet:\n",
    "        if tweet[\"sentiment_tweet\"] == 'pro_ref':\n",
    "            countTweetPro += 1\n",
    "        else:\n",
    "            countTweetAgainst += 1\n",
    "            \n",
    "    if tweet[\"final_location\"]:\n",
    "        countFinalLoc += 1\n",
    "        userLocDict[tweet[\"final_location\"]] +=1\n",
    "            \n",
    "    if tweet[\"final_location_c\"]:\n",
    "        countFinalLocCountry += 1\n",
    "        userLocCountryDict[tweet[\"final_location_c\"]] +=1\n",
    "    \n",
    "    if tweet[\"text_location_mentions\"]:\n",
    "        if len(tweet[\"text_location_mentions\"]) > 1:\n",
    "            for loc in tweet[\"text_location_mentions\"]:\n",
    "                countLocMention += 1\n",
    "                locationMention[loc] +=1\n",
    "        else:\n",
    "            countLocMention += 1\n",
    "            locationMention[tweet[\"text_location_mentions\"][0]] +=1\n",
    "            \n",
    "    if tweet[\"text_location_mentions_c\"]:\n",
    "        if len(tweet[\"text_location_mentions_c\"]) > 1:\n",
    "            for loc_c in tweet[\"text_location_mentions_c\"]:\n",
    "                countLocMention_c += 1\n",
    "                locationCountryMention[loc_c] +=1\n",
    "        else:\n",
    "            countLocMention_c += 1\n",
    "            locationCountryMention[tweet[\"text_location_mentions_c\"][0]] +=1\n",
    "            \n",
    "    if hasBothLocationAndMention(tweet):\n",
    "        countBoth += 1\n",
    "        \n",
    "    if stats_enriched_tweets.hasUserLocationAndMentionLocation(tweet):\n",
    "        countBoth2 +=1\n",
    "    \n",
    "#     if i%10000 ==0 :\n",
    "#         break\n",
    "        \n",
    "print \"Tweets with User pro: \", countUserPro, \"Tweets with User against: \", countUserAgainst\n",
    "print \"Tweets pro: \", countTweetPro, \"Tweets against: \", countTweetAgainst\n",
    "print \"Final loc: \", countFinalLoc, \"Final loc country: \", countFinalLocCountry\n",
    "print \"Loc mention: \", countLocMention, \"Loc mention country: \", countLocMention_c\n",
    "print \"With Loc and loc mention: \", countBoth, countBoth2\n",
    "\n",
    "print i"
   ]
  },
  {
   "cell_type": "code",
   "execution_count": 6,
   "metadata": {
    "collapsed": false
   },
   "outputs": [
    {
     "name": "stdout",
     "output_type": "stream",
     "text": [
      "defaultdict(<type 'int'>, {u'offenburg': 1, u'wallasey': 2160, u'craigavon': 1, u'brindisi': 13, u'tasikmalaya': 6, u'sambhal': 223, u'oss': 72, u'worms': 37, u'nottingham': 127, u'maastricht': 110, u'eastleigh': 7, u'tours': 50, u'mosul': 5, u'mila': 21, u'potenza': 1, u'grays': 1, u'kassel': 2, u'davao': 3, u'brugge': 1, u'venice': 26, u'shiraz': 2, u'marka': 3, u'lille': 6, u'paris': 3703, u'shanghai': 41, u'badajoz': 2, u'saint-denis': 1, u'canary wharf': 129, u'huddersfield': 31, u'littlehampton': 1, u'uga': 13, u'libertad': 70, u'chennai': 4, u'esher': 1, u'bracknell': 7, u'trani': 2, u'aschaffenburg': 1, u'lahore': 44, u'tolga': 86, u'welkom': 8, u'bratislava': 44, u'ankara': 453, u'gardez': 8, u'witten': 2, u'manado': 2, u'l\\xfcneburg': 1, u'dar es salaam': 22, u'harlow': 26, u'morley': 10, u'osh': 6, u'murcia': 33, u'wakefield': 158, u'bournemouth': 32, u'los ba\\xf1os': 1, u'bangor': 6, u'aachen': 75, u'sano': 12, u'kiel': 2, u'bergisch gladbach': 2, u'madurai': 1, u'horta-guinard\\xf3': 5, u'walsall': 20, u'baku': 2, u'g\\xf6teborg': 129, u'hitachi': 26, u'konstanz': 1, u'telford': 60, u'cileunyi': 2, u'troms\\xf8': 1, u'segamat': 1, u'copenhagen': 32, u'hurghada': 1, u'ode': 140, u'aba': 12, u'durban': 3, u'matara': 3, u'babu': 2, u'minden': 7, u'bognor regis': 2, u'addis ababa': 1, u'guna': 160, u'lhasa': 1, u'boli': 4, u'gondar': 3, u'ashford': 24, u'sur': 6166, u'hull': 547, u'moga': 6, u'corby': 201, u'pristina': 4, u'troyes': 3, u'zaragoza': 19, u'stoke-on-trent': 91, u'delicias': 2, u'high peak': 2, u'novorossiysk': 2, u'khanna': 1, u'okinawa': 1, u'bangkok': 62, u'tallinn': 7, u'fylde': 2, u'leeds': 785, u'mutare': 10, u'pati': 17, u'chipata': 1, u'chino': 45, u'l\\xfcbeck': 1, u'orkney': 19, u'solingen': 1, u'taiping': 5, u'antony': 25, u'metro': 1064, u'sidon': 1, u'pretoria': 2, u'gent': 57, u'derry': 60, u'dublin': 1000, u'aku': 247, u'incheon': 2, u'la gi': 1, u'minsk': 4, u'brescia': 4, u'derby': 94, u'vigo': 1, u'chesterfield': 25, u'saldanha': 3, u'taipei': 8, u'exeter': 102, u'alexandria': 5, u'montpellier': 16, u'antwerpen': 1, u'taunton': 4, u'z\\xfcrich': 14, u'subang jaya': 2, u'parma': 6, u'beckenham': 2, u'offa': 1, u'middlesbrough': 29, u'cikampek': 16, u'crosby': 25, u'naples': 7, u'pyongyang': 8, u'florence': 1587, u'pontevedra': 20, u'gera': 3, u'kropotkin': 4, u'oldham': 347, u'cannock': 32, u'anda': 276, u'athens': 86, u'perm': 28, u'calais': 1399, u'alessandria': 13, u'moro': 6, u'bender': 35, u'tunis': 9, u'bootle': 8, u'turin': 3, u'chemnitz': 1, u'limoges': 4, u'west bromwich': 3, u'erode': 34, u'livingstone': 209, u'padang': 7, u'halesowen': 4, u'berlin': 5169, u'soroti': 14, u'belfort': 2, u'zamora': 9, u'kettering': 10, u'stafford': 36, u'bedford': 70, u'msaken': 1, u'zama': 4, u'kampala': 4, u'tokyo': 269, u'islamabad': 2, u'ibb': 8, u'cikarang': 11, u'trang': 1, u'miyazaki': 2, u'shah alam': 6, u'maiduguri': 1, u'hong kong': 449, u'hiroshima': 23, u'sumber': 44, u'beijing': 242, u'taza': 3, u'melilla': 5, u'n\\xeemes': 3, u'kosi': 1, u'rodriguez': 53, u'mataram': 1, u'wani': 1, u'cape town': 31, u'douane': 8, u'badalona': 1, u'beni': 53, u'brest': 5, u'weimar': 17, u'arles': 1, u'zanzibar': 1, u'new delhi': 61, u'zadar': 1, u'miri': 3, u'oslo': 51, u'cheshunt': 11, u'jammu': 4, u'yogyakarta': 41, u'haarlem': 5, u'kabul': 115, u'trieste': 29, u'johannesburg': 52, u'aylesbury': 16, u'sig': 232, u'mijas': 6, u'kidderminster': 4, u'puri': 7, u'malang': 6, u'ibadan': 4, u'divo': 4, u'southend-on-sea': 1, u'purley': 4, u'mau': 693, u'seoul': 26, u'ajaccio': 1, u'sakurai': 60, u'george town': 3, u'trier': 3, u'hoorn': 1, u'man': 28810, u'karachi': 67, u'tarragona': 16, u'hannover': 12, u'bogor': 2, u'helsinki': 11, u'gij\\xf3n': 1, u'nancy': 123, u'roubaix': 1, u'hassan': 73, u'margate': 10, u'villingen-schwenningen': 1, u'tbilisi': 1, u'kuala selangor': 1, u'casablanca': 12, u'hyderabad': 6, u'northampton': 50, u'maidenhead': 675, u'bujumbura': 1, u'colmar': 1, u'london': 39758, u'windhoek': 3, u'shangri-la': 5, u'luhansk': 5, u'toulouse': 10, u'doncaster': 53, u'kuala lumpur': 92, u'wum': 1, u'tula': 1, u'oyo': 1, u'high wycombe': 3, u'suez': 172, u'damascus': 24, u'ipswich': 9, u'galle': 1, u'lira': 114, u'tsu': 9, u'nyeri': 4, u'sakura': 6, u'passau': 3, u'ulm': 1, u'handa': 1, u'salamanca': 70, u'zagreb': 4, u'offenbach': 1, u'pori': 1, u'kisi': 4, u'budapest': 16, u'torquay': 35, u'coimbra': 4, u'oxford': 1698, u'treviso': 1, u'colchester': 110, u'perpignan': 1, u'torrevieja': 28, u'barabai': 1, u'salford': 53, u'porto': 18, u'worthing': 23, u'tanda': 18, u'beira': 1, u'poole': 570, u'bago': 3, u'aversa': 1, u'bielefeld': 3, u'newport': 348, u'stockholm': 115, u'rennes': 9, u'ifo': 21, u'oviedo': 15, u'kano': 4, u'tabaco': 5, u'foggia': 3, u'belgrade': 11, u'edinburgh': 3077, u'almer\\xeda': 27, u'cuxhaven': 2, u'alcorc\\xf3n': 5, u'croydon': 184, u'milan': 110, u'bende': 10, u'conakry': 1, u'blantyre': 1, u'sorsogon': 1, u'st helens': 28, u'birkenhead': 5, u'east kilbride': 1, u'carlisle': 18, u'cesena': 1, u'jerusalem': 74, u'kerman': 2, u'kiev': 34, u'uppsala': 3, u'greifswald': 11, u'trabzon': 1, u'avignon': 3, u'esbjerg': 2, u'mbabane': 1, u'alicante': 71, u'braga': 2, u'pushkin': 2, u'tokat': 1, u'mati': 103, u'gillingham': 2, u'rhondda': 123, u'ipoh': 68, u'norwich': 1086, u'sheffield': 341, u'tamworth': 3, u'milton keynes': 42, u'kisaran': 1, u'wuppertal': 2, u'luzern': 22, u'nazareth': 16, u'kuningan': 2, u'obra': 62, u'ragusa': 3, u'chatham': 33, u'bekasi': 9, u'hemel hempstead': 1, u'stourbridge': 3, u'pune': 9, u'isparta': 1, u'cadiz': 2, u'wroc\\u0142aw': 1, u'ahlen': 62, u'bilbao': 19, u'harrogate': 98, u'livingston': 9, u'south shields': 3, u'bologna': 12, u'daye': 2, u'kuantan': 3, u'ise': 313, u'gloucester': 119, u'\\xe5rhus': 1, u'wedi': 92, u'wolverhampton': 112, u'nigel': 9680, u'ono': 18, u'miura': 1, u'vittoria': 102, u'bama': 23, u'dunkerque': 1, u'hebron': 1, u'mbeya': 1, u'pandak': 1, u'k\\xf6rfez': 2, u'kobe': 63, u'sepang': 2, u'bayreuth': 4, u'runcorn': 10, u'agra': 1, u'tanga': 3, u'purbalingga': 1, u'elche': 2, u'pemalang': 68, u'moers': 24, u'strasbourg': 81, u'leverkusen': 1, u'santander': 738, u'riyadh': 6, u'le havre': 1, u'bulacan': 2, u'norton': 89, u'southport': 15, u'messina': 4, u'benghazi': 62, u'lorient': 58, u'buta': 7, u'drancy': 1, u'tashkent': 1, u'mariano': 48, u'moscow': 213, u'deva': 4, u'silang': 8, u'eindhoven': 2, u'bhind': 2, u'polokwane': 4, u'botou': 1, u'sch\\xf6neberg': 3, u'tehran': 61, u'willich': 4, u'lorca': 1, u'regensburg': 2, u'basingstoke': 3, u'marbella': 44, u'arnhem': 2, u'bergamo': 14, u'tegal': 454, u'pamplona': 11, u'vannes': 3, u'gaya': 27, u'samsun': 1, u'victorias': 7, u'qom': 1, u'reus': 2, u'lisburn': 40, u'ja\\xe9n': 5, u'lugo': 2, u'stockport': 34, u'torrent': 177, u'bais': 1, u'portsmouth': 112, u'cagliari': 5, u'saitama': 1, u'macau': 2, u'eger': 3, u'hagen': 2, u'preston': 123, u'sevilla': 31, u'pare': 156, u'jayapura': 26, u'ellesmere port': 13, u'nashik': 1, u'wiesbaden': 2, u'maribor': 11, u'mannheim': 5, u'kingswood': 1, u'warsaw': 230, u'belek': 1, u'imola': 3, u'molfetta': 2, u'abu dhabi': 14, u'bunda': 3, u'nanjing': 1, u'tirana': 18, u'massa': 54, u'latina': 979, u'kaohsiung': 1, u'batman': 102, u'pemba': 1, u'augsburg': 2, u'beirut': 5, u'barakaldo': 1, u'turku': 3, u'santiago': 14, u'bayan': 32, u'weymouth': 11, u'verona': 7, u'iwo': 2, u'parla': 245, u'kariya': 2, u'semarang': 237, u'quimper': 1, u'victoria': 729, u'suwa\\u0142ki': 1, u'skopje': 2, u'hasselt': 1, u'rossendale': 1, u'cr\\xe9teil': 1, u'br\\u0103ila': 1, u'numan': 1, u'medan': 45, u'stevenage': 15, u'bradford': 523, u'southampton': 189, u'weleri': 20, u'butterworth': 3, u'dordrecht': 5, u'jakarta': 478, u'fier': 19, u'nuneaton': 91, u'aksu': 1, u'chester': 67, u'eisen': 13, u'bordeaux': 310, u'st albans': 13, u'ferrara': 7, u'neum\\xfcnster': 1, u'huelva': 20, u'pankow': 3, u'retiro': 16, u'mainz': 2, u'east jerusalem': 1, u'hereford': 19, u'fes': 2, u'chamart\\xedn': 10, u'leicester': 1059, u'saga': 973, u'hartlepool': 161, u'bimbo': 13, u'l\\xfcnen': 1, u'city center': 1, u'eastbourne': 96, u'manchester': 1617, u'nagoya': 1, u'shrewsbury': 42, u'naga': 3, u'm\\xf6lndal': 3, u'candelaria': 1, u'ia\\u015fi': 1, u'kadi': 1, u'surabaya': 10, u'c\\xf3rdoba': 5, u'cartagena': 7, u'mumbai': 118, u'basel': 38, u'le mans': 10, u'gaziantep': 2, u'cizre': 1, u'centurion': 3, u'rotterdam': 8, u'staines': 16, u'bissau': 3, u'kulti': 2, u'phuket': 9, u'serang': 35, u'purwokerto': 6, u'ayd\\u0131n': 2, u'algeciras': 52, u'royal leamington spa': 9, u'reigate': 7, u'toledo': 4, u'malacca': 1, u'lviv': 3, u'baghdad': 2759, u'hutang': 15, u'gravesend': 6, u'riga': 2, u'shaping': 228, u'magelang': 20, u'forl\\xec': 1, u'angers': 19, u'luton': 616, u'dijon': 2, u'lala': 22, u'witbank': 1, u'mostar': 2, u'wels': 2, u'gela': 3, u'mascara': 12, u'varna': 1, u'bam': 216, u'mogadishu': 12, u'sanaa': 1, u'satte': 8, u'gen\\xe8ve': 19, u'darlington': 27, u'b\\xe9ziers': 2, u'manfredonia': 1, u'prague': 34, u'poitiers': 6, u'monza': 2, u'brixton': 98, u'bursa': 321, u'hameln': 1, u'bethlehem': 1, u'battersea': 9, u'lisbon': 2424, u'bari': 5, u'le\\xf3n': 38, u'gouda': 2, u'aberdeen': 500, u'luanda': 1, u'mecca': 7, u'oldenburg': 4, u'lyon': 20, u'yamaguchi': 2, u'd\\xfcsseldorf': 40, u'pisa': 6, u'dundee': 56, u'fuengirola': 15, u'tyre': 14, u'prato': 6, u'dartford': 7, u'lucena': 1, u'smolensk': 4, u'swansea': 227, u'glasgow': 619, u'courbevoie': 1, u'dongguan': 12, u'paisley': 199, u'jos': 60, u'wa': 367, u'rosetta': 1, u'koga': 3, u'girona': 3, u'n\\xfcrnberg': 3, u'koblenz': 1, u'ende': 186, u'nirmal': 2, u'como': 13883, u'f\\xfcrth': 1, u'torremolinos': 1, u'\\xe7ar\\u015famba': 5, u'chita': 1, u'herne': 3, u'rugby': 219, u'kigali': 47, u'chelsea': 583, u'juba': 44, u'stockton-on-tees': 2, u'stuttgart': 10, u'roman': 109, u'constantine': 417, u'bristol': 2250, u'horsham': 2, u'schwerte': 1, u'piacenza': 3, u'capas': 1, u'bela': 32, u'leipzig': 5, u'toulon': 2, u'orihuela': 1, u'dalian': 2, u'munnar': 10, u'kowloon': 1, u'fukushima': 10, u'springs': 86, u'andria': 2, u'swindon': 92, u'chelmsford': 14, u'most': 10, u'sari': 20, u'kumagaya': 1, u'dortmund': 17, u'mino': 3, u'lahat': 16, u'pekanbaru': 6, u'yao': 5, u'cirebon': 78, u'bengaluru': 21, u'gaza': 112, u'abuja': 6, u'mitte': 7, u'odessa': 8, u'chandigarh': 1, u'liverpool': 2523, u'jeddah': 149, u'lecce': 2, u'siracusa': 2, u'ariana': 137, u'worcester': 207, u'katowice': 1, u'keren': 36, u'hamburg': 119, u'catania': 6, u'palimanan': 14, u'wako': 3, u'kota': 239, u'\\u015br\\xf3dmie\\u015bcie': 2, u'tailai': 1, u'graz': 1, u'kazan': 8, u'zwolle': 1, u'coventry': 149, u'bamberg': 11, u'dunstable': 3, u'kara': 32, u'banjarmasin': 2, u'osan': 2, u'bor': 68, u'san juan': 9, u'ostrava': 3, u'gateshead': 35, u'doha': 32, u'sutton coldfield': 31, u'yala': 1, u'sidoarjo': 2, u'villaverde': 1, u'lowestoft': 14, u'veenendaal': 2, u'cergy': 1, u'maidstone': 45, u'wonosobo': 1, u'batumi': 11, u'slough': 5, u'basildon': 16, u'pau': 14, u'una': 10356, u'tabora': 1, u'fukuyama': 18, u'safi': 1, u'ouagadougou': 4, u'guadalajara': 10, u'lund': 10, u'aleppo': 33, u'ancona': 1, u'split': 4119, u'manila': 40, u'arezzo': 1, u'kalyani': 2, u'loughborough': 134, u'novara': 77, u'klang': 2, u'bali': 13, u'singapore': 674, u'u\\u015fak': 4, u'bexley': 19, u'burnley': 223, u'siegen': 16, u'genoa': 1, u'sabadell': 13, u'depok': 19, u'mestre': 12, u'brussels': 7704, u'caen': 22, u'nantes': 4, u'dhaka': 51, u'namur': 3, u'peterborough': 149, u'marzahn': 1, u'batley': 8, u'breda': 1, u'nagpur': 2, u'\\xe1vila': 3, u'laval': 1, u'rome': 515, u'utrecht': 132, u'uji': 1, u'cannes': 26, u'\\xe7ankaya': 1, u'dadu': 1, u'comal': 2, u'hastings': 126, u'cheltenham': 145, u'burgos': 2, u'barking': 136, u'leeuwarden': 3, u'perugia': 1, u'sofia': 182, u'ondo': 2, u'fareham': 4, u'bandar lampung': 3, u'blackpool': 75, u'birmingham': 783, u'tourcoing': 1, u'trondheim': 44, u'bishkek': 1, u'izmir': 3, u'mons': 3, u'belfast': 717, u'friedrichshafen': 1, u'harare': 5, u'nikki': 41, u'antalya': 3, u'sochi': 4, u'scunthorpe': 10, u'southall': 6, u'fethiye': 2, u'singa': 2, u'chamb\\xe9ry': 1, u'hanoi': 3, u'hino': 20, u'kragujevac': 1, u'versailles': 29, u'tete': 8, u'groningen': 6, u'nijmegen': 2, u'kosong': 35, u'ufa': 4, u'delhi': 293, u'virginia': 62, u'munich': 60, u'shillong': 1, u'djibouti': 3, u'valladolid': 5, u'kankan': 19, u'newcastle': 2539, u'tel aviv': 11, u'clacton-on-sea': 4, u'cuenca': 19, u'astana': 4, u'ravenna': 2, u'palermo': 13, u'dubai': 538, u'onitsha': 1, u'm\\xe1laga': 29, u'beauvais': 50, u'daura': 1, u'toyota': 150, u'limassol': 5, u'lagos': 106, u'crawley': 57, u'sarajevo': 4, u'getxo': 2, u'martin': 3699, u'watford': 40, u'morena': 24, u'valence': 3, u'kawasaki': 1, u'nairobi': 13, u'yerevan': 1, u'bucharest': 59, u'catanzaro': 1, u'leuven': 2, u'woking': 40, u'soma': 1, u'madrid': 2570, u'yulin': 4, u'baguio': 1, u'homs': 1, u'sunderland': 855, u'wigan': 61, u'brits': 10561, u'halifax': 80, u'vilnius': 9, u'great yarmouth': 45, u'islington': 496, u'palencia': 6, u'umred': 4, u'vicenza': 2, u'dudley': 17, u'luxembourg': 447, u'runing': 2, u'birine': 1, u'keighley': 26, u'widnes': 8, u'muscat': 12, u'bonn': 10, u'reims': 2, u'sutton': 419, u'dresden': 15, u'huyton': 1, u'benidorm': 33, u'kyoto': 1, u'bo': 273, u'goma': 1, u'cork': 65, u'balagtas': 1, u'mito': 35, u'taytay': 2, u'linz': 2, u'macclesfield': 5, u'asan': 2, u'rotherham': 258, u'bury': 461, u'wesel': 2, u'brighton': 4584, u'cimahi': 15, u'matera': 3, u'toki': 4, u'blackburn': 22, u'ciamis': 2, u'solihull': 47, u'mu\\u015f': 1, u'wola': 2, u'utrera': 7, u'segovia': 3, u'aden': 7, u'lingen': 3, u'barnsley': 54, u'albacete': 5, u'owo': 1, u'cambridge': 1019, u'chengdu': 1, u'bata': 2, u'kreuzberg': 1, u'kasama': 10, u'neu-ulm': 1, u'luxor': 2, u'bath': 226, u'batu': 6, u'barletta': 1, u'kimberley': 11, u'morecambe': 22, u'cardiff': 495, u'amsterdam': 483, u'essen': 21, u'petaling jaya': 1, u'bergen': 54, u'yola': 7, u'loni': 1, u'crewe': 3, u'dos hermanas': 1, u'van': 5797, u'lod': 2, u'tallaght': 1, u'redditch': 9, u'hilversum': 1, u'ganja': 74, u'metz': 2, u'schiedam': 2, u'cairo': 47, u'cukai': 1, u'valencia': 131, u'sinan': 2, u'boulogne-billancourt': 1, u'vienna': 170, u'rimini': 12, u'samarinda': 5, u'atlantis': 10, u'dagenham': 19, u'kandi': 3, u'dewsbury': 6, u'norrk\\xf6ping': 1, u'leiden': 157, u'farnborough': 2106, u'warrington': 17, u'erlangen': 4, u'ho': 1097, u'aveiro': 2, u'concepcion': 1, u'c\\xe1ceres': 5, u'bern': 24, u'adler': 8, u'padova': 1, u'algiers': 1, u'mora': 172, u'jaffna': 11, u'salzburg': 1, u'gie\\xdfen': 4, u'pula': 41, u'toyama': 1, u'ruse': 71, u'k\\xf6ln': 10, u'plymouth': 292, u'nicosia': 1, u'tema': 280, u'marseille': 18, u'celle': 130, u'bida': 2, u'duyun': 1, u'dili': 4, u'slawi': 1, u'donetsk': 13, u'ulan bator': 18, u'salem': 25, u'd\\xfan laoghaire': 4, u'anju': 2, u'fili': 2, u'hamm': 23, u'ina': 16, u'hami': 2, u'kinshasa': 1, u'elda': 2, u'lausanne': 53, u'granada': 47, u'istanbul': 2987, u'zile': 3, u'bremen': 5, u'entebbe': 3, u'nagasaki': 6, u'east london': 30, u'acton': 13, u'pekalongan': 315, u'potsdam': 6, u'hove': 465, u'rochdale': 173, u'colombo': 8, u'shenzhen': 9, u'port harcourt': 1, u'gurgaon': 2, u'noda': 8, u'solana': 16, u'san jose': 12, u'dali': 9, u'carmona': 1, u'medina': 684, u'quetta': 1, u'palma': 23, u'miki': 2, u'ede': 4, u'orai': 1, u'batang': 6, u'kurgan': 1, u'guildford': 11, u'urdaneta': 3, u'krak\\xf3w': 1, u'minato': 1, u'taranto': 2, u'mpanda': 1, u'dushanbe': 2, u'gelsenkirchen': 45, u'gosport': 12, u'oral': 94, u'kasihan': 8, u'barcelona': 1359, u'mojokerto': 3, u'bandung': 135, u'ceuta': 6, u'terrassa': 5, u'delft': 1, u'mansfield': 31, u'redhill': 10, u'bolton': 168, u'oran': 3})\n"
     ]
    }
   ],
   "source": [
    "print locationMention"
   ]
  },
  {
   "cell_type": "code",
   "execution_count": 7,
   "metadata": {
    "collapsed": true
   },
   "outputs": [],
   "source": [
    "a = sorted(locationCountryMention.items(), key=operator.itemgetter(1), reverse=True)"
   ]
  },
  {
   "cell_type": "code",
   "execution_count": 8,
   "metadata": {
    "collapsed": false
   },
   "outputs": [
    {
     "name": "stdout",
     "output_type": "stream",
     "text": [
      "Countries:  151 [(u'united kingdom', 396155), (u'turkey', 34146), (u'ivory coast', 28814), (u'italy', 26016), (u'south africa', 23756), (u'germany', 19786), (u'france', 19083), (u'india', 18065), (u'nigeria', 13882), (u'ireland', 11644), (u'belgium', 9400), (u'spain', 9259), (u'china', 8774), (u'iraq', 8692), (u'israel', 7968), (u'gibraltar', 6301), (u'oman', 6206), (u'portugal', 5526), (u'indonesia', 4845), (u'japan', 4839), (u'croatia', 4262), (u'slovakia', 3908), (u'russia', 3390), (u'iran', 3116), (u'ghana', 3053), (u'norway', 2900), (u'bangladesh', 2896), (u'malaysia', 2439), (u'syria', 2135), (u'poland', 2113), (u'iceland', 1923), (u'greece', 1652), (u'pakistan', 1381), (u'hungary', 1319), (u'austria', 1294), (u'netherlands', 1292), (u'saudi arabia', 1177), (u'sweden', 1166), (u'south korea', 1031), (u'uganda', 932), (u'libya', 927), (u'switzerland', 871), (u'algeria', 846), (u'jordan', 815), (u'ukraine', 806), (u'kenya', 777), (u'denmark', 776), (u'philippines', 742), (u'singapore', 674), (u'jersey', 673), (u'united arab emirates', 567), (u'egypt', 567), (u'bulgaria', 508), (u'hong kong', 449), (u'luxembourg', 447), (u'sudan', 446), (u'finland', 423), (u'zimbabwe', 410), (u'maldives', 387), (u'tanzania', 358), (u'cyprus', 357), (u'romania', 349), (u'afghanistan', 309), (u'cameroon', 296), (u'south sudan', 295), (u'north korea', 293), (u'lithuania', 290), (u'sierra leone', 284), (u'yemen', 282), (u'somalia', 263), (u'burundi', 252), (u'chad', 244), (u'zambia', 235), (u'thailand', 205), (u'estonia', 198), (u'kazakhstan', 196), (u'vatican', 189), (u'tunisia', 181), (u'taiwan', 156), (u'georgia', 148), (u'mozambique', 147), (u'albania', 143), (u'malta', 132), (u'vietnam', 127), (u'guernsey', 120), (u'azerbaijan', 118), (u'sri lanka', 117), (u'palestinian territory', 114), (u'serbia', 106), (u'rwanda', 103), (u'niger', 98), (u'qatar', 90), (u'ethiopia', 90), (u'mongolia', 87), (u'kosovo', 83), (u'latvia', 81), (u'macedonia', 81), (u'nepal', 74), (u'czech republic', 70), (u'belarus', 67), (u'slovenia', 63), (u'democratic republic of the congo', 62), (u'lebanon', 54), (u'liechtenstein', 53), (u'moldova', 50), (u'morocco', 47), (u'reunion', 46), (u'benin', 45), (u'namibia', 44), (u'myanmar', 44), (u'mali', 40), (u'togo', 39), (u'eritrea', 37), (u'armenia', 35), (u'montenegro', 35), (u'malawi', 34), (u'guinea', 33), (u'bahrain', 29), (u'monaco', 25), (u'liberia', 20), (u'botswana', 15), (u'central african republic', 13), (u'brunei', 12), (u'kuwait', 12), (u'mauritius', 11), (u'cambodia', 10), (u'kyrgyzstan', 10), (u'angola', 10), (u'gabon', 10), (u'madagascar', 9), (u'senegal', 8), (u'andorra', 8), (u'burkina faso', 6), (u'bosnia and herzegovina', 6), (u'swaziland', 5), (u'turkmenistan', 4), (u'equatorial guinea', 4), (u'western sahara', 4), (u'san marino', 4), (u'guinea-bissau', 3), (u'uzbekistan', 3), (u'djibouti', 3), (u'seychelles', 3), (u'lesotho', 3), (u'comoros', 2), (u'tajikistan', 2), (u'macao', 2), (u'gambia', 1), (u'saint helena', 1), (u'faroe islands', 1), (u'cape verde', 1)]\n"
     ]
    }
   ],
   "source": [
    "print \"Countries: \", len(a), a"
   ]
  },
  {
   "cell_type": "code",
   "execution_count": null,
   "metadata": {
    "collapsed": true
   },
   "outputs": [],
   "source": [
    ""
   ]
  }
 ],
 "metadata": {
  "kernelspec": {
   "display_name": "Python 2",
   "language": "python",
   "name": "python2"
  },
  "language_info": {
   "codemirror_mode": {
    "name": "ipython",
    "version": 2.0
   },
   "file_extension": ".py",
   "mimetype": "text/x-python",
   "name": "python",
   "nbconvert_exporter": "python",
   "pygments_lexer": "ipython2",
   "version": "2.7.11"
  }
 },
 "nbformat": 4,
 "nbformat_minor": 0
}