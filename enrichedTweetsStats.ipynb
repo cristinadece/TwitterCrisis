{
 "cells": [
  {
   "cell_type": "code",
   "execution_count": 7,
   "metadata": {
    "collapsed": false
   },
   "outputs": [
    {
     "name": "stderr",
     "output_type": "stream",
     "text": [
      "/Library/Python/2.7/site-packages/mpltools/style/__init__.py:42: FutureWarning: \n",
      "\n",
      "    The style-sheet functionality in mpltools has been integrated into\n",
      "    Matplotlib >= 1.4. This module will be removed in a future release.\n",
      "\n",
      "    Note that style-sheets used by `matplotlib.style` use the standard\n",
      "    Matplotlib rc-file syntax instead of the INI format used by `mpltools`.\n",
      "    This mostly means un-quoting strings and changing '=' to ':'.\n",
      "\n",
      "\n",
      "  \"\"\", FutureWarning)\n"
     ]
    }
   ],
   "source": [
    "import codecs\n",
    "import json\n",
    "import logging\n",
    "import os\n",
    "import sys\n",
    "import operator\n",
    "from collections import defaultdict\n",
    "from tokenizer import twokenize\n",
    "from twitter.Tweet import Tweet\n",
    "from util import locations, ngrams\n",
    "from processing import locationsInTweets\n",
    "import stats_enriched_tweets"
   ]
  },
  {
   "cell_type": "code",
   "execution_count": 8,
   "metadata": {
    "collapsed": false
   },
   "outputs": [
    {
     "name": "stdout",
     "output_type": "stream",
     "text": [
      "/Users/muntean/Documents/workspace/TwitterCrisis\n"
     ]
    }
   ],
   "source": [
    "print os.getcwd()"
   ]
  },
  {
   "cell_type": "code",
   "execution_count": 9,
   "metadata": {
    "collapsed": true
   },
   "outputs": [],
   "source": [
    "# read enriched tweet\n",
    "def tweetIter(inputfile):\n",
    "    for line in codecs.open(inputfile, \"r\", \"utf-8\"):\n",
    "        try:\n",
    "            tweet = json.loads(line)\n",
    "        except:\n",
    "            print \"Couldn't parse tweet: \", line[:200]\n",
    "        yield tweet"
   ]
  },
  {
   "cell_type": "code",
   "execution_count": 10,
   "metadata": {
    "collapsed": false
   },
   "outputs": [],
   "source": [
    "def hasBothLocationAndMention(tweet):\n",
    "    return (tweet[\"final_location\"] or tweet[\"final_location_c\"]) and (tweet[\"text_location_mentions\"] or tweet[\"text_location_mentions_c\"])"
   ]
  },
  {
   "cell_type": "code",
   "execution_count": 12,
   "metadata": {
    "collapsed": false
   },
   "outputs": [
    {
     "name": "stdout",
     "output_type": "stream",
     "text": [
      "Tweets with User pro:  0 Tweets with User against:  0\n",
      "Tweets pro:  0 Tweets against:  0\n",
      "Final loc:  0 Final loc country:  0\n",
      "Loc mention:  0 Loc mention country:  0\n",
      "With Loc and loc mention:  38296 38296\n",
      "\n"
     ]
    }
   ],
   "source": [
    "# Read file with simplified schema\n",
    "'''\n",
    "sentiment_tweet: STRING 'pro_ref' : pro refugees, 'against_ref' : against refugees \n",
    "                    (the tweet contains polarized hashtags)\n",
    "sentiment_user: BOOLEAN  1 : pro refugees, 0 : against refugees \n",
    "                    (the user is polarized by analyzing the tweets he/she wrote so far)\n",
    "'''\n",
    "\n",
    "\n",
    "inputFilename = \"/Users/muntean/refugees-with-final.json\"\n",
    "tweetsAsDict = tweetIter(inputFilename)\n",
    "\n",
    "# user sentiment count\n",
    "countUserPro = 0 \n",
    "countUserAgainst = 0\n",
    "\n",
    "# tweet sentiment count\n",
    "countTweetPro = 0\n",
    "countTweetAgainst = 0\n",
    "\n",
    "# user location - from final\n",
    "userLocDict = defaultdict(int)\n",
    "userLocCountryDict = defaultdict(int)\n",
    "countFinalLoc = 0\n",
    "countFinalLocCountry = 0\n",
    "\n",
    "# location mention\n",
    "locationMention = defaultdict(int)\n",
    "locationCountryMention = defaultdict(int)\n",
    "countLocMention = 0\n",
    "countLocMention_c = 0\n",
    "\n",
    "# both location and location mention\n",
    "countBoth = 0\n",
    "countBoth2 = 0\n",
    "\n",
    "\n",
    "i = 0\n",
    "for tweet in tweetsAsDict:\n",
    "    i+=1\n",
    "    \n",
    "#     if \"sentiment_user\" in tweet:\n",
    "#         if tweet[\"sentiment_user\"] == 1:\n",
    "#             countUserPro += 1\n",
    "#         else:\n",
    "#             countUserAgainst += 1\n",
    "            \n",
    "            \n",
    "#     if \"sentiment_tweet\" in tweet:\n",
    "#         if tweet[\"sentiment_tweet\"] == 'pro_ref':\n",
    "#             countTweetPro += 1\n",
    "#         else:\n",
    "#             countTweetAgainst += 1\n",
    "            \n",
    "#     if tweet[\"final_location\"]:\n",
    "#         countFinalLoc += 1\n",
    "#         userLocDict[tweet[\"final_location\"]] +=1\n",
    "            \n",
    "#     if tweet[\"final_location_c\"]:\n",
    "#         countFinalLocCountry += 1\n",
    "#         userLocCountryDict[tweet[\"final_location_c\"]] +=1\n",
    "    \n",
    "#     if tweet[\"text_location_mentions\"]:\n",
    "#         if len(tweet[\"text_location_mentions\"]) > 1:\n",
    "#             for loc in tweet[\"text_location_mentions\"]:\n",
    "#                 countLocMention += 1\n",
    "#                 locationMention[loc] +=1\n",
    "#         else:\n",
    "#             countLocMention += 1\n",
    "#             locationMention[tweet[\"text_location_mentions\"][0]] +=1\n",
    "            \n",
    "#     if tweet[\"text_location_mentions_c\"]:\n",
    "#         if len(tweet[\"text_location_mentions_c\"]) > 1:\n",
    "#             for loc_c in tweet[\"text_location_mentions_c\"]:\n",
    "#                 countLocMention_c += 1\n",
    "#                 locationCountryMention[loc_c] +=1\n",
    "#         else:\n",
    "#             countLocMention_c += 1\n",
    "#             locationCountryMention[tweet[\"text_location_mentions_c\"][0]] +=1\n",
    "            \n",
    "    if hasBothLocationAndMention(tweet):\n",
    "        countBoth += 1\n",
    "        \n",
    "    if stats_enriched_tweets.hasUserLocationAndMentionLocation(tweet):\n",
    "        countBoth2 +=1\n",
    "    \n",
    "#     if i%10000 ==0 :\n",
    "#         break\n",
    "        \n",
    "print \"Tweets with User pro: \", countUserPro, \"Tweets with User against: \", countUserAgainst\n",
    "print \"Tweets pro: \", countTweetPro, \"Tweets against: \", countTweetAgainst\n",
    "print \"Final loc: \", countFinalLoc, \"Final loc country: \", countFinalLocCountry\n",
    "print \"Loc mention: \", countLocMention, \"Loc mention country: \", countLocMention_c\n",
    "print \"With Loc and loc mention: \", countBoth, countBoth2\n",
    "\n",
    "print"
   ]
  },
  {
   "cell_type": "code",
   "execution_count": null,
   "metadata": {
    "collapsed": false
   },
   "outputs": [],
   "source": [
    "print locationMention"
   ]
  },
  {
   "cell_type": "code",
   "execution_count": 26,
   "metadata": {
    "collapsed": true
   },
   "outputs": [],
   "source": [
    "a = sorted(locationCountryMention.items(), key=operator.itemgetter(1), reverse=True)"
   ]
  },
  {
   "cell_type": "code",
   "execution_count": null,
   "metadata": {
    "collapsed": false
   },
   "outputs": [],
   "source": [
    "print \"Countries: \", len(a), a"
   ]
  },
  {
   "cell_type": "code",
   "execution_count": null,
   "metadata": {
    "collapsed": true
   },
   "outputs": [],
   "source": [
    ""
   ]
  }
 ],
 "metadata": {
  "kernelspec": {
   "display_name": "Python 2",
   "language": "python",
   "name": "python2"
  },
  "language_info": {
   "codemirror_mode": {
    "name": "ipython",
    "version": 2.0
   },
   "file_extension": ".py",
   "mimetype": "text/x-python",
   "name": "python",
   "nbconvert_exporter": "python",
   "pygments_lexer": "ipython2",
   "version": "2.7.10"
  }
 },
 "nbformat": 4,
 "nbformat_minor": 0
}